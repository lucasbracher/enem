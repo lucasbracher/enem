{
 "cells": [
  {
   "cell_type": "markdown",
   "metadata": {},
   "source": [
    "# ENEM: Analyzing data from 1999 to 2008\n",
    "_by Lucas Bracher_\n",
    "\n",
    "ENEM, Brazilian National High School Exam, was in its first 11 years an evaluation tool for Brazilian high school. At the end of this period, it became a compulsory examination for anyone who wanted to enter federal colleges and universities, that is, it became an examination similar to the Italian *Esame di Maturità* and the French *Baccalauréat*. Fortunately, Brazilian Ministry of Education made available the scores and socioeconomic data of each candidate, so that we can make very interesting data crossings of these first 10 years, as well as discover relationships between candidates' grades with family income, presence of tap water and electricity in house, as well as the relation between the scores and the studies in public or private school and its relation with concomitant work during high school. In this article we'll look at these files with the [Pandas](https://pandas.pydata.org/), [NumPy](http://www.numpy.org/) and [Matplotlib](https://matplotlib.org /) libraries.\n",
    "\n",
    "## Getting the data\n",
    "\n",
    "The data can be downloaded from the [INEP website](http://inep.gov.br/microdados), institute responsible for the elaboration, application and organization of the results. All data available up to March 14, 2019 goes from the first edition (1998) until 2017. Unfortunately, because few students answered to the socio-economic evaluation of the 1998 edition, we decided not to use the data from this edition. Therefore, we used the data from 1999 to 2008. From 2009 the data became available in a slightly more complex format and we thought it would be better to analyze them in a second moment.\n",
    "\n",
    "The data for each of these first years are made available in `.sas` and` .sps` format, which are data description files, related to another text file with fixed width fields.\n",
    "\n",
    "## Analysis of the content of each year and preparation of the data\n",
    "\n",
    "In general, each set of data for each year is made available in a `.zip` file containing the following directories:\n",
    "\n",
    "* `DATA`: contains a` .txt` file containing the notes and socio-economic data of each student. This file is in fixed width field format.\n",
    "* `INPUT_SAS_SPSS`: contains the metadata files for reading the` .txt` file contained in `DATA`.\n",
    "* `README `: contains a` .pdf` extension file containing the data dictionary for reading the `.txt` file, as well as the contents of the tests.\n",
    "\n",
    "For the use of the data of each year, the `.txt` and` .sas` files of each year were placed in the same folder. Each `.sas` file was edited so that the` .txt` file could be read while it was in the same folder, because originally the required path is `C: \\`.\n",
    "\n",
    "## First problems\n",
    "\n",
    "The first problem we faced was that the `.sas` files could not be read with the package sas made available in Python:\n",
    "\n"
   ]
  },
  {
   "cell_type": "markdown",
   "metadata": {},
   "source": [
    "```python\n",
    "import pandas as pd\n",
    "enem1998 = pd.read_sas(\"INPUT_SAS_ENEM_1998.sas\")\n",
    "\n",
    "---------------------------------------------------------------------------\n",
    "ValueError                                Traceback (most recent call last)\n",
    "<ipython-input-1-c40e8ad19bdf> in <module>\n",
    "      1 import pandas as pd\n",
    "      2 \n",
    "----> 3 enem1998 = pd.read_sas(\"INPUT_SAS_ENEM_1998.sas\")\n",
    "\n",
    "~/.local/lib/python3.6/site-packages/pandas/io/sas/sasreader.py in read_sas(filepath_or_buffer, format, index, encoding, chunksize, iterator)\n",
    "     46             format = \"sas7bdat\"\n",
    "     47         else:\n",
    "---> 48             raise ValueError(\"unable to infer format of SAS file\")\n",
    "     49 \n",
    "     50     if format.lower() == 'xport':\n",
    "\n",
    "ValueError: unable to infer format of SAS file\n",
    "```\n"
   ]
  },
  {
   "cell_type": "markdown",
   "metadata": {},
   "source": [
    "The second problem is the inconsistency of fields and data over the years. There are several fields in the data of each year whose names have no clear meaning; each year such fields have different names, different positions and different contents, apart from the fact that the Pandas `.csv` file parser sometimes does not make a good guess of which would be the best type for each column, resulting a DataFrame of much larger size than necessary.\n",
    "\n",
    "## Solutions\n",
    "\n",
    "The solution found for the first problem was to write a quick \"parser\" based on .sas files. To build this parser, we opened an .sas file and we got the following in the first few lines:\n",
    "\n",
    "```\n",
    "DATE ENEM_1998;\n",
    "RETAIN MASC_INSCRITO NU_ANO DT_NASCIMENTO;\n",
    "INFILE \"C: \\ DATA_ENEM_1998.TXT\"\n",
    "LRECL = 477 MISSOVER;\n",
    "INPUT\n",
    "@1 MASC_INSCRITO $ Char8. / * Enrollment Mask * /\n",
    "@9 NU_ANO 8. / * Year of the Enem * /\n",
    "@17 DT_NASCIMENTO $ Char20. / * Date of birth of the registrant * /\n",
    "@37 TP_SEXO 8. / * Sex of member * /\n",
    "@45 CODMUNIC_INSC $ Char12. / * Municipal Code in which the enrollee lives: * /\n",
    ".\n",
    ".\n",
    ".\n",
    "```\n",
    "\n",
    "From these files a quick parser was written, and it will be presented just below.\n",
    "\n",
    "The solution to the second problem was to construct a metadata table containing the information of each field in each year in order to normalize both column names and contents. This table contains 6 fields:\n",
    "\n",
    "* `YEAR`: year of the ENEM test\n",
    "\n",
    "* `FIELD`: field of ENEM data year file\n",
    "\n",
    "* `TYPE`: type to be converted to reading `.csv` file\n",
    "\n",
    "* `RENAME_TO`: significant name for which the field will be renamed\n",
    "\n",
    "* `MANDATORY`: If this field is set to 1, only records containing this field will be loaded.\n",
    "\n",
    "* `CONVERT_TO`: data conversion dictionary for more meaningful content.\n",
    "\n",
    "Such a table was written to a `.csv` file and loaded using Pandas itself.\n"
   ]
  },
  {
   "cell_type": "markdown",
   "metadata": {},
   "source": [
    "## Downloading and processing data data (optional step)\n",
    "\n",
    "This step is optional and can last several hours of processing and can be skipped. You can go to the [Fast Data Loading](#Fast-data-loading) part, where data is loaded from a binary file in a few seconds.\n",
    "\n",
    "In order to download the data from the internet and make it into `.csv` files, just run the code below:"
   ]
  },
  {
   "cell_type": "code",
   "execution_count": 1,
   "metadata": {},
   "outputs": [
    {
     "data": {
      "application/vnd.jupyter.widget-view+json": {
       "model_id": "909b61a640f34df18d8fb5be0549f2cf",
       "version_major": 2,
       "version_minor": 0
      },
      "text/plain": [
       "HTML(value='', placeholder='')"
      ]
     },
     "metadata": {},
     "output_type": "display_data"
    }
   ],
   "source": [
    "import collections\n",
    "import csv, io, zipfile\n",
    "import requests\n",
    "import re\n",
    "import sys, os, shutil\n",
    "from IPython.display import display\n",
    "import ipywidgets as widgets\n",
    "\n",
    "out = widgets.HTML(value='',\n",
    "    placeholder='',\n",
    "    description='')\n",
    "display(out)\n",
    "\n",
    "urlprefix = 'http://download.inep.gov.br/microdados/'\n",
    "\n",
    "files = {\n",
    "    'micro_enem1999.zip' : \n",
    "        {'meta' : 'IMPUT_SAS_SPSS/INPUT_SAS_ENEM_1999.sas', \n",
    "         'data' : 'DADOS/DADOS_ENEM_1999.zip', \n",
    "         'rename' : 'DADOS_ENEM_1999.csv'},\n",
    "    'micro_enem2000.zip' : \n",
    "        {'meta' : 'IMPUT_SAS_SPSS/INPUT_SAS_ENEM_2000.sas',\n",
    "         'data' : 'DADOS/DADOS_ENEM_2000.zip', \n",
    "         'rename' : 'DADOS_ENEM_2000.csv'},\n",
    "    'micro_enem2001.zip' : \n",
    "        {'meta' : 'IMPUT_SAS_SPSS/INPUT_SAS_ENEM_2001.sas',\n",
    "         'data' : 'DADOS/DADOS_ENEM_2001.TXT', \n",
    "         'rename' : 'DADOS_ENEM_2001.csv'},\n",
    "    'micro_enem2002.zip' : \n",
    "        {'meta' : 'INPUTS_SAS_SPSS/INPUT_SAS_ENEM_2002.sas',\n",
    "         'data' : 'DADOS/DADOS_ENEM_2002.zip', \n",
    "         'rename' : 'DADOS_ENEM_2002.csv'},\n",
    "    'micro_enem2003.zip' : \n",
    "        {'meta' : 'INPUTS_SAS_SPSS/INPUT_SAS_ENEM_2003.sas',\n",
    "         'data' : 'DADOS/DADOS_ENEM_2003.zip', \n",
    "         'rename' : 'DADOS_ENEM_2003.csv'},\n",
    "    'micro_enem2004.zip' : \n",
    "        {'meta' : 'INPUTS_SAS_SPSS/INPUT_SAS_ENEM_2004.sas',\n",
    "         'data' : 'DADOS/DADOS_ENEM_2004.zip', \n",
    "         'rename' : 'DADOS_ENEM_2004.csv'},\n",
    "    'microdados_enem_2005.zip' : \n",
    "        {'meta' : 'INPUT_SAS_ENEM_2005.sas',\n",
    "         'data' : 'DADOS_ENEM_2005.zip', \n",
    "         'rename' : 'DADOS_ENEM_2005.csv'},\n",
    "    'microdados_ENEM_2006.zip' : \n",
    "        {'meta' : '',\n",
    "         'data' : 'Microdados Enem 2006 (2° Ediç╞o)/Dados/MICRODADOS_ENEM_2006.csv', \n",
    "         'rename' : 'DADOS_ENEM_2006.csv'},\n",
    "    'microdados_enem_2007_DVD.zip' : \n",
    "        {'meta' : '',\n",
    "         'data' : 'Microdados Enem 2007 (2° Ediç╞o)/Dados/MICRODADOS_ENEM_2007.csv', \n",
    "         'rename' : 'DADOS_ENEM_2007.csv'},\n",
    "    'microdados_enem_2008.zip' : \n",
    "        {'meta' : '',\n",
    "         'data' : 'Microdados Enem 2008 (2° Ediç╞o)/Dados/MICRODADOS_ENEM_2008.csv', \n",
    "         'rename' : 'DADOS_ENEM_2008.csv'}\n",
    "}\n",
    "\n",
    "def transform_sas_to_csv(sas_filename):\n",
    "\n",
    "    dir_name = os.path.split(sas_filename)[0]\n",
    "    csv_filename = \"\"\n",
    "    \n",
    "    pre_fields = collections.OrderedDict()\n",
    "\n",
    "    # get info from malformed sas file\n",
    "    try:\n",
    "        sas_file = open(sas_filename, \"r\", encoding=\"ISO-8859-1\")\n",
    "    except:\n",
    "        sys.exit(\"File not found\")\n",
    "    for line in sas_file:\n",
    "        match = re.search('^INFILE.*', line)\n",
    "        if match:\n",
    "            data_filename = os.path.join(dir_name, line.split('\"')[1].split('\\\\')[-1])\n",
    "            csv_filename = \"{}.csv\".format(data_filename)\n",
    "        match = re.search('^@([0-9]+)[ \\t]+([^ \\t]+)', line)\n",
    "        if match:\n",
    "            pre_fields[match.group(2)] = int(match.group(1))-1\n",
    "    pre_fields['ending'] = None\n",
    "    sas_file.close()\n",
    "\n",
    "    # post-processing fields\n",
    "    pre_value = None\n",
    "    pre_key = None\n",
    "    fields = collections.OrderedDict()\n",
    "    for key, value in pre_fields.items():\n",
    "        if pre_key:\n",
    "            fields[pre_key] = [pre_value, value]\n",
    "        pre_value = value\n",
    "        pre_key = key\n",
    "\n",
    "    # open csv file to write\n",
    "    csv_file = open(csv_filename, mode='w')\n",
    "    fieldnames = list(fields.keys())\n",
    "    writer = csv.DictWriter(csv_file, fieldnames=fieldnames, delimiter=\";\")\n",
    "    writer.writeheader()\n",
    "\n",
    "    # open data file\n",
    "    try:\n",
    "        data_file = open(data_filename, \"r\", encoding=\"ISO-8859-1\")\n",
    "        out.value = \"Data file opened\"\n",
    "    except:\n",
    "        return \"\"\n",
    "    n = 1\n",
    "    for line in data_file:\n",
    "        # read data file line by line\n",
    "        csv_line = dict()\n",
    "        for k, v in fields.items():\n",
    "            csv_line[k] = str.strip(line[v[0]: v[1]])\n",
    "        writer.writerow(csv_line)\n",
    "        if n % 1000 == 0:\n",
    "            out.value = \"Reading line {}\".format(n)\n",
    "        n += 1\n",
    "    \n",
    "    csv_file.close()\n",
    "    data_file.close()\n",
    "    return csv_filename\n",
    "    \n",
    "\n",
    "for zipname, zipcompressedfiles in files.items():\n",
    "    data = zipcompressedfiles['data']\n",
    "    meta = zipcompressedfiles['meta']\n",
    "    rename = zipcompressedfiles['rename']\n",
    "    \n",
    "    out.value = \"Downloading {}\".format(zipname)\n",
    "    enem = requests.get(\"{}{}\".format(urlprefix,zipname))\n",
    "    z = zipfile.ZipFile(io.BytesIO(enem.content))\n",
    "    z.extract(data, path='tmp')\n",
    "    \n",
    "    if meta:\n",
    "        z.extract(meta, path='tmp')\n",
    "        if '.zip' in data:\n",
    "            z = zipfile.ZipFile(os.path.join('tmp', data))\n",
    "            z.extractall(path='tmp')\n",
    "            data = z.namelist()[0]\n",
    "            \n",
    "        os.rename(os.path.join('tmp', data), os.path.join('raw', os.path.basename(data)))\n",
    "        os.rename(os.path.join('tmp', meta), os.path.join('raw', os.path.basename(meta)))\n",
    "        csv_name = transform_sas_to_csv(os.path.join('raw', os.path.basename(meta)))\n",
    "        os.rename(csv_name, os.path.join('data', rename))\n",
    "    else:\n",
    "        os.rename(os.path.join('tmp', data), os.path.join('data', rename))\n",
    "    out.value = \"{} finished.\".format(os.path.basename(data))\n",
    "out.value = \"All data downloaded and processed.\"\n"
   ]
  },
  {
   "cell_type": "markdown",
   "metadata": {},
   "source": [
    "Then, it is necessary to load the data dictionary, already described above:"
   ]
  },
  {
   "cell_type": "code",
   "execution_count": 2,
   "metadata": {},
   "outputs": [
    {
     "data": {
      "text/html": [
       "<div>\n",
       "<style scoped>\n",
       "    .dataframe tbody tr th:only-of-type {\n",
       "        vertical-align: middle;\n",
       "    }\n",
       "\n",
       "    .dataframe tbody tr th {\n",
       "        vertical-align: top;\n",
       "    }\n",
       "\n",
       "    .dataframe thead th {\n",
       "        text-align: right;\n",
       "    }\n",
       "</style>\n",
       "<table border=\"1\" class=\"dataframe\">\n",
       "  <thead>\n",
       "    <tr style=\"text-align: right;\">\n",
       "      <th></th>\n",
       "      <th>YEAR</th>\n",
       "      <th>FIELD</th>\n",
       "      <th>TYPE</th>\n",
       "      <th>RENAME_TO</th>\n",
       "      <th>MANDATORY</th>\n",
       "      <th>CONVERT_TO</th>\n",
       "    </tr>\n",
       "  </thead>\n",
       "  <tbody>\n",
       "    <tr>\n",
       "      <th>19</th>\n",
       "      <td>1999</td>\n",
       "      <td>Q3</td>\n",
       "      <td>category</td>\n",
       "      <td>SKIN_COLOR</td>\n",
       "      <td>NaN</td>\n",
       "      <td>{'A': 'white', 'B': 'biracial', 'C': 'black', ...</td>\n",
       "    </tr>\n",
       "    <tr>\n",
       "      <th>23</th>\n",
       "      <td>1999</td>\n",
       "      <td>Q18</td>\n",
       "      <td>category</td>\n",
       "      <td>FATHER_SCHOOLING</td>\n",
       "      <td>NaN</td>\n",
       "      <td>{'A': 'A-didnt_go_to_school', 'B': 'B-primary_...</td>\n",
       "    </tr>\n",
       "    <tr>\n",
       "      <th>24</th>\n",
       "      <td>1999</td>\n",
       "      <td>Q19</td>\n",
       "      <td>category</td>\n",
       "      <td>MOTHER_SCHOOLING</td>\n",
       "      <td>NaN</td>\n",
       "      <td>{'A': 'A-didnt_go_to_school', 'B': 'B-primary_...</td>\n",
       "    </tr>\n",
       "    <tr>\n",
       "      <th>26</th>\n",
       "      <td>1999</td>\n",
       "      <td>Q55</td>\n",
       "      <td>category</td>\n",
       "      <td>SECONDARY_SCHOOL_1</td>\n",
       "      <td>1.0</td>\n",
       "      <td>{'A': 'daytime', 'B': 'both', 'C': 'nighttime'}</td>\n",
       "    </tr>\n",
       "    <tr>\n",
       "      <th>27</th>\n",
       "      <td>1999</td>\n",
       "      <td>Q56</td>\n",
       "      <td>category</td>\n",
       "      <td>SECONDARY_SCHOOL_2</td>\n",
       "      <td>1.0</td>\n",
       "      <td>{'A': 'public', 'B': 'both', 'C': 'private'}</td>\n",
       "    </tr>\n",
       "  </tbody>\n",
       "</table>\n",
       "</div>"
      ],
      "text/plain": [
       "    YEAR FIELD      TYPE           RENAME_TO  MANDATORY  \\\n",
       "19  1999    Q3  category          SKIN_COLOR        NaN   \n",
       "23  1999   Q18  category    FATHER_SCHOOLING        NaN   \n",
       "24  1999   Q19  category    MOTHER_SCHOOLING        NaN   \n",
       "26  1999   Q55  category  SECONDARY_SCHOOL_1        1.0   \n",
       "27  1999   Q56  category  SECONDARY_SCHOOL_2        1.0   \n",
       "\n",
       "                                           CONVERT_TO  \n",
       "19  {'A': 'white', 'B': 'biracial', 'C': 'black', ...  \n",
       "23  {'A': 'A-didnt_go_to_school', 'B': 'B-primary_...  \n",
       "24  {'A': 'A-didnt_go_to_school', 'B': 'B-primary_...  \n",
       "26    {'A': 'daytime', 'B': 'both', 'C': 'nighttime'}  \n",
       "27       {'A': 'public', 'B': 'both', 'C': 'private'}  "
      ]
     },
     "execution_count": 2,
     "metadata": {},
     "output_type": "execute_result"
    }
   ],
   "source": [
    "import pandas as pd\n",
    "dicts = pd.read_csv(\"table_of_dicts_enem.csv\", delimiter='\\t')\n",
    "dicts.dropna(subset=['CONVERT_TO']).head()"
   ]
  },
  {
   "cell_type": "markdown",
   "metadata": {},
   "source": [
    "## Loading data (optional step)\n",
    "\n",
    "The data was uploaded to a single DataFrame. To facilitate analysis on a conventional computer, a maximum of 100000 rows per year were considered. Obviously, if you have a computer with a lot of memory, we encourage you to raise that level to 200,000 or more, but we believe that the statistical effect will not be so impacting in the analysis.\n",
    "\n",
    "One important thing to note is that the encoding of files is different. Files from 1999 to 2005 are encoded in `utf-8` whereas those from 2006 to 2008 are encoded in` latin1`."
   ]
  },
  {
   "cell_type": "code",
   "execution_count": 3,
   "metadata": {},
   "outputs": [
    {
     "data": {
      "application/vnd.jupyter.widget-view+json": {
       "model_id": "79c8b6fc0a9042d09fdce67d501e2794",
       "version_major": 2,
       "version_minor": 0
      },
      "text/plain": [
       "HTML(value='', placeholder='')"
      ]
     },
     "metadata": {},
     "output_type": "display_data"
    }
   ],
   "source": [
    "import ast\n",
    "import os\n",
    "import time\n",
    "from IPython.display import display\n",
    "import ipywidgets as widgets\n",
    "\n",
    "out = widgets.HTML(value='',\n",
    "    placeholder='',\n",
    "    description='')\n",
    "display(out)\n",
    "\n",
    "start_time = time.time()\n",
    "\n",
    "enem = pd.DataFrame()\n",
    "\n",
    "files = {\n",
    "    1999 : 'utf-8', 2000 : 'utf-8', 2001 : 'utf-8', 2002 : 'utf-8', 2003 : 'utf-8', \n",
    "    2004 : 'utf-8', 2005 : 'utf-8', 2006 : 'latin1', 2007 : 'latin1', 2008 : 'latin1' \n",
    "}\n",
    "\n",
    "for year, enc in files.items():\n",
    "    # Which columns we would like to load for this year\n",
    "    columns = list(dicts.loc[dicts['YEAR']==year , 'FIELD'])\n",
    "    # Which types are they?\n",
    "    types = dicts.loc[dicts['YEAR']==year, ['FIELD', 'TYPE']].\\\n",
    "        dropna().set_index('FIELD').squeeze().to_dict()\n",
    "    # Only non-NaN fields:\n",
    "    mandatory = list(dicts.loc[(dicts['YEAR']==year) & (dicts['MANDATORY']==1) , 'FIELD'])\n",
    "    out.value = \"Loading DADOS_ENEM_{}.csv...\".format(year)\n",
    "    \n",
    "    enem_year = pd.read_csv(os.path.join(\"data\", 'DADOS_ENEM_{}.csv'.format(year)), \n",
    "        delimiter=';', \n",
    "        usecols=columns,\n",
    "        dtype=types,\n",
    "        encoding=enc\n",
    "    ).dropna(\n",
    "        subset=mandatory\n",
    "    )\n",
    "    \n",
    "    # Which will be the new names of the fields?\n",
    "    new_names = dicts.loc[dicts['YEAR']==year, ['FIELD', 'RENAME_TO']].\\\n",
    "        dropna().set_index('FIELD').squeeze().to_dict()\n",
    "    \n",
    "    enem_year.rename(\n",
    "        index=str, \n",
    "        columns=new_names, \n",
    "        inplace=True)\n",
    "    \n",
    "    # Sampling down to 100000\n",
    "    if len(enem_year) > 100000:\n",
    "        enem_year = enem_year.sample(n = 100000)\n",
    "    \n",
    "    # Changing fields contents:\n",
    "    new_values = dicts.loc[dicts['YEAR']==year, ['RENAME_TO', 'CONVERT_TO']].dropna()\n",
    "    \n",
    "    for index, row in new_values.iterrows():\n",
    "        # Converting string representation of a dict to a real dict (be careful and \n",
    "        #   check csv file before running!)\n",
    "        d = ast.literal_eval(row[1])\n",
    "        enem_year[row[0]].replace(d.keys(), d.values(), inplace=True)\n",
    "        \n",
    "    # Putting all together\n",
    "    enem = pd.concat([enem, enem_year], sort=False)\n",
    "    del enem_year\n",
    "\n",
    "out.value = \"All data loaded in {} seconds.\".format(round(time.time() - start_time, 2))"
   ]
  },
  {
   "cell_type": "markdown",
   "metadata": {},
   "source": [
    "Before go on, let's enforce data types:"
   ]
  },
  {
   "cell_type": "code",
   "execution_count": 4,
   "metadata": {},
   "outputs": [],
   "source": [
    "# First we make a copy of the original field names, new names and their desired types:\n",
    "ct = dicts[['FIELD', 'RENAME_TO', 'TYPE']].copy()\n",
    "# If RENAME_TO is empty, we fill with original field name:\n",
    "ct['RENAME_TO'].fillna(ct['FIELD'], inplace=True)\n",
    "# Now FIELD needs to be dropped, and RENAME_TO will be renamed to FIELD\n",
    "ct.drop(columns='FIELD', inplace=True)\n",
    "ct.columns = ['FIELD', 'TYPE']\n",
    "# We just drop the rows that have NaN values.\n",
    "# These field types will be guessed at load time and their types are ok:\n",
    "ct.dropna(inplace=True)\n",
    "# We set the index \n",
    "ct.set_index('FIELD', inplace=True)\n",
    "for index, row in ct.iterrows():\n",
    "    if index in enem.columns:\n",
    "        enem[index] = enem[index].astype(row[0])"
   ]
  },
  {
   "cell_type": "markdown",
   "metadata": {},
   "source": [
    "And save DataFrame in an .hdf5 file in order to reload this data as fast as possible:"
   ]
  },
  {
   "cell_type": "code",
   "execution_count": 5,
   "metadata": {},
   "outputs": [
    {
     "name": "stdout",
     "output_type": "stream",
     "text": [
      "--- 93.55 seconds to save ---\n"
     ]
    }
   ],
   "source": [
    "start_time = time.time()\n",
    "\n",
    "s = pd.HDFStore('enem.h5')\n",
    "s.put('enem', enem, format='table', data_columns=True)\n",
    "s.close()\n",
    "\n",
    "print(\"--- {} seconds to save ---\".format(round(time.time() - start_time, 2)))"
   ]
  },
  {
   "cell_type": "markdown",
   "metadata": {},
   "source": [
    "## Fast data loading\n",
    "\n",
    "The entire previous section can be skipped if you just want to access the results. In the file `enem.h5` are the data of up to 100000 students per year, from the years 1999 to 2008, chosen randomly. Thus, it is possible to skip the slow portion of data load and leave only the part of data analysis and visualization.\n",
    "To load the data, just enter the following commands:"
   ]
  },
  {
   "cell_type": "code",
   "execution_count": 4,
   "metadata": {},
   "outputs": [
    {
     "name": "stdout",
     "output_type": "stream",
     "text": [
      "--- 22.55 seconds to reload ---\n"
     ]
    }
   ],
   "source": [
    "import pandas as pd\n",
    "import time\n",
    "start_time = time.time()\n",
    "\n",
    "enem = pd.read_hdf('enem.h5', 'enem')\n",
    "\n",
    "print(\"--- {} seconds to reload ---\".format(round(time.time() - start_time, 2)))"
   ]
  },
  {
   "cell_type": "markdown",
   "metadata": {},
   "source": [
    "Data will be loaded from the medium directly into the DataFrame. In tests done on a typical computer, comparison between the load speed of the original .csv files and the .h5 file was 80 to 100 times faster."
   ]
  },
  {
   "cell_type": "markdown",
   "metadata": {},
   "source": [
    "## Data analysis\n",
    "\n",
    "### Difference of grades between public and private schools\n",
    "\n",
    "Due to profound social problems in Brazil, we think the first interesting analysis is to observe the difference of grades between public and private schools, as well as the standard deviations of these two schools. Let's look at the differences between multiple choice test and essay scores.\n",
    "\n",
    "First, from the multiple choice test:"
   ]
  },
  {
   "cell_type": "code",
   "execution_count": 5,
   "metadata": {},
   "outputs": [],
   "source": [
    "ppo_mean = enem.groupby(['YEAR', 'SECONDARY_SCHOOL_2']).mean()['MC_SCORE']\n",
    "ppo_mean_public = ppo_mean.loc[ppo_mean.index.get_level_values('SECONDARY_SCHOOL_2') == 'public'].xs('public', level=1)\n",
    "ppo_mean_private = ppo_mean.loc[ppo_mean.index.get_level_values('SECONDARY_SCHOOL_2') == 'private'].xs('private', level=1)"
   ]
  },
  {
   "cell_type": "code",
   "execution_count": 6,
   "metadata": {},
   "outputs": [],
   "source": [
    "ppo_std = enem.groupby(['YEAR', 'SECONDARY_SCHOOL_2']).std()['MC_SCORE']\n",
    "ppo_std_public = ppo_std.loc[ppo_std.index.get_level_values('SECONDARY_SCHOOL_2') == 'public'].xs('public', level=1)\n",
    "ppo_std_private = ppo_std.loc[ppo_std.index.get_level_values('SECONDARY_SCHOOL_2') == 'private'].xs('private', level=1)"
   ]
  },
  {
   "cell_type": "markdown",
   "metadata": {},
   "source": [
    "By plotting the averages and standard deviations of students in public and private schools, we have:"
   ]
  },
  {
   "cell_type": "code",
   "execution_count": 7,
   "metadata": {},
   "outputs": [
    {
     "data": {
      "text/html": [
       "<div>\n",
       "<style scoped>\n",
       "    .dataframe tbody tr th:only-of-type {\n",
       "        vertical-align: middle;\n",
       "    }\n",
       "\n",
       "    .dataframe tbody tr th {\n",
       "        vertical-align: top;\n",
       "    }\n",
       "\n",
       "    .dataframe thead th {\n",
       "        text-align: right;\n",
       "    }\n",
       "</style>\n",
       "<table border=\"1\" class=\"dataframe\">\n",
       "  <thead>\n",
       "    <tr style=\"text-align: right;\">\n",
       "      <th></th>\n",
       "      <th>MEAN_PUBLIC</th>\n",
       "      <th>MEAN_PRIVATE</th>\n",
       "      <th>STD_PUBLIC</th>\n",
       "      <th>STD_PRIVATE</th>\n",
       "    </tr>\n",
       "    <tr>\n",
       "      <th>YEAR</th>\n",
       "      <th></th>\n",
       "      <th></th>\n",
       "      <th></th>\n",
       "      <th></th>\n",
       "    </tr>\n",
       "  </thead>\n",
       "  <tbody>\n",
       "    <tr>\n",
       "      <th>1999</th>\n",
       "      <td>43.421078</td>\n",
       "      <td>54.611563</td>\n",
       "      <td>16.362298</td>\n",
       "      <td>17.429100</td>\n",
       "    </tr>\n",
       "    <tr>\n",
       "      <th>2000</th>\n",
       "      <td>48.545539</td>\n",
       "      <td>57.003091</td>\n",
       "      <td>18.190014</td>\n",
       "      <td>18.072709</td>\n",
       "    </tr>\n",
       "    <tr>\n",
       "      <th>2001</th>\n",
       "      <td>36.144157</td>\n",
       "      <td>47.681297</td>\n",
       "      <td>12.326296</td>\n",
       "      <td>15.975449</td>\n",
       "    </tr>\n",
       "    <tr>\n",
       "      <th>2002</th>\n",
       "      <td>29.816776</td>\n",
       "      <td>41.873310</td>\n",
       "      <td>10.599267</td>\n",
       "      <td>15.658384</td>\n",
       "    </tr>\n",
       "    <tr>\n",
       "      <th>2003</th>\n",
       "      <td>43.673948</td>\n",
       "      <td>59.447216</td>\n",
       "      <td>17.280009</td>\n",
       "      <td>19.323924</td>\n",
       "    </tr>\n",
       "    <tr>\n",
       "      <th>2004</th>\n",
       "      <td>38.031025</td>\n",
       "      <td>55.781753</td>\n",
       "      <td>15.299977</td>\n",
       "      <td>20.014123</td>\n",
       "    </tr>\n",
       "    <tr>\n",
       "      <th>2005</th>\n",
       "      <td>36.046699</td>\n",
       "      <td>47.931261</td>\n",
       "      <td>13.728776</td>\n",
       "      <td>18.634165</td>\n",
       "    </tr>\n",
       "    <tr>\n",
       "      <th>2006</th>\n",
       "      <td>34.922681</td>\n",
       "      <td>50.577074</td>\n",
       "      <td>11.571798</td>\n",
       "      <td>16.533123</td>\n",
       "    </tr>\n",
       "    <tr>\n",
       "      <th>2007</th>\n",
       "      <td>47.869393</td>\n",
       "      <td>65.006827</td>\n",
       "      <td>15.321747</td>\n",
       "      <td>17.975047</td>\n",
       "    </tr>\n",
       "    <tr>\n",
       "      <th>2008</th>\n",
       "      <td>39.477474</td>\n",
       "      <td>56.861266</td>\n",
       "      <td>13.376375</td>\n",
       "      <td>16.755832</td>\n",
       "    </tr>\n",
       "  </tbody>\n",
       "</table>\n",
       "</div>"
      ],
      "text/plain": [
       "      MEAN_PUBLIC  MEAN_PRIVATE  STD_PUBLIC  STD_PRIVATE\n",
       "YEAR                                                    \n",
       "1999    43.421078     54.611563   16.362298    17.429100\n",
       "2000    48.545539     57.003091   18.190014    18.072709\n",
       "2001    36.144157     47.681297   12.326296    15.975449\n",
       "2002    29.816776     41.873310   10.599267    15.658384\n",
       "2003    43.673948     59.447216   17.280009    19.323924\n",
       "2004    38.031025     55.781753   15.299977    20.014123\n",
       "2005    36.046699     47.931261   13.728776    18.634165\n",
       "2006    34.922681     50.577074   11.571798    16.533123\n",
       "2007    47.869393     65.006827   15.321747    17.975047\n",
       "2008    39.477474     56.861266   13.376375    16.755832"
      ]
     },
     "execution_count": 7,
     "metadata": {},
     "output_type": "execute_result"
    }
   ],
   "source": [
    "mean_std_o = pd.DataFrame(\n",
    "    {'MEAN_PUBLIC': ppo_mean_public, 'MEAN_PRIVATE':ppo_mean_private, \n",
    "     'STD_PUBLIC': ppo_std_public, 'STD_PRIVATE':ppo_std_private}\n",
    ")\n",
    "mean_std_o"
   ]
  },
  {
   "cell_type": "code",
   "execution_count": 8,
   "metadata": {
    "scrolled": true
   },
   "outputs": [
    {
     "data": {
      "text/plain": [
       "<matplotlib.legend.Legend at 0x7f3d4cf073c8>"
      ]
     },
     "execution_count": 8,
     "metadata": {},
     "output_type": "execute_result"
    },
    {
     "data": {
      "image/png": "[encoded data removed]",
      "text/plain": [
       "<Figure size 432x288 with 1 Axes>"
      ]
     },
     "metadata": {
      "needs_background": "light"
     },
     "output_type": "display_data"
    }
   ],
   "source": [
    "import matplotlib.pyplot as plt \n",
    "%matplotlib inline\n",
    "\n",
    "mean_std_o.reset_index(inplace=True)\n",
    "mean_std_o['YEAR'] = mean_std_o['YEAR'].astype(int)\n",
    "plt.plot('YEAR', 'MEAN_PUBLIC', data=mean_std_o, marker='', color='blue', linewidth=2)\n",
    "plt.plot('YEAR', 'MEAN_PRIVATE', data=mean_std_o, marker='', color='blue', linewidth=2, linestyle='dashed')\n",
    "plt.plot('YEAR', 'STD_PUBLIC', data=mean_std_o, marker='', color='olive', linewidth=2)\n",
    "plt.plot('YEAR', 'STD_PRIVATE', data=mean_std_o, marker='', color='olive', linewidth=2, linestyle='dashed')\n",
    "\n",
    "plt.legend()"
   ]
  },
  {
   "cell_type": "markdown",
   "metadata": {},
   "source": [
    "We can observe in this analysis that the scores of the public and private schools have the same \"drawing\" and are spaced in a more or less constant form. To check this phenomenon, let's construct a column of difference between the notes and plot your chart:\n",
    "\n"
   ]
  },
  {
   "cell_type": "code",
   "execution_count": 9,
   "metadata": {},
   "outputs": [
    {
     "data": {
      "text/plain": [
       "[<matplotlib.lines.Line2D at 0x7f3d4cfc75f8>]"
      ]
     },
     "execution_count": 9,
     "metadata": {},
     "output_type": "execute_result"
    },
    {
     "data": {
      "image/png": "[encoded data removed]",
      "text/plain": [
       "<Figure size 432x288 with 1 Axes>"
      ]
     },
     "metadata": {
      "needs_background": "light"
     },
     "output_type": "display_data"
    }
   ],
   "source": [
    "mean_std_o['DIFF'] = mean_std_o['MEAN_PRIVATE'] - mean_std_o['MEAN_PUBLIC']\n",
    "plt.plot('YEAR', 'DIFF', data=mean_std_o, marker='', color='blue', linewidth=2)"
   ]
  },
  {
   "cell_type": "code",
   "execution_count": 10,
   "metadata": {},
   "outputs": [
    {
     "data": {
      "text/plain": [
       "17.75072733327714"
      ]
     },
     "execution_count": 10,
     "metadata": {},
     "output_type": "execute_result"
    }
   ],
   "source": [
    "mean_std_o['DIFF'].max()"
   ]
  },
  {
   "cell_type": "code",
   "execution_count": 11,
   "metadata": {},
   "outputs": [
    {
     "data": {
      "text/plain": [
       "8.457552896753057"
      ]
     },
     "execution_count": 11,
     "metadata": {},
     "output_type": "execute_result"
    }
   ],
   "source": [
    "mean_std_o['DIFF'].min()"
   ]
  },
  {
   "cell_type": "markdown",
   "metadata": {},
   "source": [
    "Now, let's do the same to essay scores:"
   ]
  },
  {
   "cell_type": "code",
   "execution_count": 12,
   "metadata": {},
   "outputs": [],
   "source": [
    "ppe_mean = enem.groupby(['YEAR', 'SECONDARY_SCHOOL_2']).mean()['ESSAY_SCORE']\n",
    "ppe_mean_public = ppe_mean.loc[ppe_mean.index.get_level_values('SECONDARY_SCHOOL_2') == 'public'].xs('public', level=1)\n",
    "ppe_mean_private = ppe_mean.loc[ppe_mean.index.get_level_values('SECONDARY_SCHOOL_2') == 'private'].xs('private', level=1)"
   ]
  },
  {
   "cell_type": "code",
   "execution_count": 13,
   "metadata": {},
   "outputs": [],
   "source": [
    "ppe_std = enem.groupby(['YEAR', 'SECONDARY_SCHOOL_2']).std()['ESSAY_SCORE']\n",
    "ppe_std_public = ppe_std.loc[ppe_std.index.get_level_values('SECONDARY_SCHOOL_2') == 'public'].xs('public', level=1)\n",
    "ppe_std_private = ppe_std.loc[ppe_std.index.get_level_values('SECONDARY_SCHOOL_2') == 'private'].xs('private', level=1)"
   ]
  },
  {
   "cell_type": "code",
   "execution_count": 14,
   "metadata": {},
   "outputs": [
    {
     "data": {
      "text/html": [
       "<div>\n",
       "<style scoped>\n",
       "    .dataframe tbody tr th:only-of-type {\n",
       "        vertical-align: middle;\n",
       "    }\n",
       "\n",
       "    .dataframe tbody tr th {\n",
       "        vertical-align: top;\n",
       "    }\n",
       "\n",
       "    .dataframe thead th {\n",
       "        text-align: right;\n",
       "    }\n",
       "</style>\n",
       "<table border=\"1\" class=\"dataframe\">\n",
       "  <thead>\n",
       "    <tr style=\"text-align: right;\">\n",
       "      <th></th>\n",
       "      <th>MEAN_PUBLIC</th>\n",
       "      <th>MEAN_PRIVATE</th>\n",
       "      <th>STD_PUBLIC</th>\n",
       "      <th>STD_PRIVATE</th>\n",
       "    </tr>\n",
       "    <tr>\n",
       "      <th>YEAR</th>\n",
       "      <th></th>\n",
       "      <th></th>\n",
       "      <th></th>\n",
       "      <th></th>\n",
       "    </tr>\n",
       "  </thead>\n",
       "  <tbody>\n",
       "    <tr>\n",
       "      <th>1999</th>\n",
       "      <td>41.852936</td>\n",
       "      <td>48.580293</td>\n",
       "      <td>22.561681</td>\n",
       "      <td>23.061552</td>\n",
       "    </tr>\n",
       "    <tr>\n",
       "      <th>2000</th>\n",
       "      <td>54.001700</td>\n",
       "      <td>55.296372</td>\n",
       "      <td>21.649851</td>\n",
       "      <td>23.545837</td>\n",
       "    </tr>\n",
       "    <tr>\n",
       "      <th>2001</th>\n",
       "      <td>47.766693</td>\n",
       "      <td>53.629413</td>\n",
       "      <td>17.814134</td>\n",
       "      <td>20.693039</td>\n",
       "    </tr>\n",
       "    <tr>\n",
       "      <th>2002</th>\n",
       "      <td>49.055042</td>\n",
       "      <td>54.059500</td>\n",
       "      <td>17.958081</td>\n",
       "      <td>21.969717</td>\n",
       "    </tr>\n",
       "    <tr>\n",
       "      <th>2003</th>\n",
       "      <td>47.585288</td>\n",
       "      <td>51.420263</td>\n",
       "      <td>20.764072</td>\n",
       "      <td>25.985926</td>\n",
       "    </tr>\n",
       "    <tr>\n",
       "      <th>2004</th>\n",
       "      <td>36.974702</td>\n",
       "      <td>48.505747</td>\n",
       "      <td>25.484605</td>\n",
       "      <td>27.964092</td>\n",
       "    </tr>\n",
       "    <tr>\n",
       "      <th>2005</th>\n",
       "      <td>52.939522</td>\n",
       "      <td>53.942982</td>\n",
       "      <td>17.537182</td>\n",
       "      <td>22.814929</td>\n",
       "    </tr>\n",
       "    <tr>\n",
       "      <th>2006</th>\n",
       "      <td>50.389122</td>\n",
       "      <td>54.215586</td>\n",
       "      <td>19.040550</td>\n",
       "      <td>22.969008</td>\n",
       "    </tr>\n",
       "    <tr>\n",
       "      <th>2007</th>\n",
       "      <td>53.769430</td>\n",
       "      <td>60.500689</td>\n",
       "      <td>15.593211</td>\n",
       "      <td>16.558895</td>\n",
       "    </tr>\n",
       "    <tr>\n",
       "      <th>2008</th>\n",
       "      <td>57.677200</td>\n",
       "      <td>62.530354</td>\n",
       "      <td>14.822475</td>\n",
       "      <td>18.419045</td>\n",
       "    </tr>\n",
       "  </tbody>\n",
       "</table>\n",
       "</div>"
      ],
      "text/plain": [
       "      MEAN_PUBLIC  MEAN_PRIVATE  STD_PUBLIC  STD_PRIVATE\n",
       "YEAR                                                    \n",
       "1999    41.852936     48.580293   22.561681    23.061552\n",
       "2000    54.001700     55.296372   21.649851    23.545837\n",
       "2001    47.766693     53.629413   17.814134    20.693039\n",
       "2002    49.055042     54.059500   17.958081    21.969717\n",
       "2003    47.585288     51.420263   20.764072    25.985926\n",
       "2004    36.974702     48.505747   25.484605    27.964092\n",
       "2005    52.939522     53.942982   17.537182    22.814929\n",
       "2006    50.389122     54.215586   19.040550    22.969008\n",
       "2007    53.769430     60.500689   15.593211    16.558895\n",
       "2008    57.677200     62.530354   14.822475    18.419045"
      ]
     },
     "execution_count": 14,
     "metadata": {},
     "output_type": "execute_result"
    }
   ],
   "source": [
    "mean_std_e = pd.DataFrame(\n",
    "    {'MEAN_PUBLIC': ppe_mean_public, 'MEAN_PRIVATE':ppe_mean_private, \n",
    "     'STD_PUBLIC': ppe_std_public, 'STD_PRIVATE':ppe_std_private}\n",
    ")\n",
    "mean_std_e"
   ]
  },
  {
   "cell_type": "code",
   "execution_count": 15,
   "metadata": {},
   "outputs": [
    {
     "data": {
      "text/plain": [
       "<matplotlib.legend.Legend at 0x7f3d4d06a0b8>"
      ]
     },
     "execution_count": 15,
     "metadata": {},
     "output_type": "execute_result"
    },
    {
     "data": {
      "image/png": "[encoded data removed]",
      "text/plain": [
       "<Figure size 432x288 with 1 Axes>"
      ]
     },
     "metadata": {
      "needs_background": "light"
     },
     "output_type": "display_data"
    }
   ],
   "source": [
    "mean_std_e.reset_index(inplace=True)\n",
    "mean_std_e['YEAR'] = mean_std_e['YEAR'].astype(int)\n",
    "plt.plot('YEAR', 'MEAN_PUBLIC', data=mean_std_e, marker='', color='blue', linewidth=2)\n",
    "plt.plot('YEAR', 'MEAN_PRIVATE', data=mean_std_e, marker='', color='blue', linewidth=2, linestyle='dashed')\n",
    "plt.plot('YEAR', 'STD_PUBLIC', data=mean_std_e, marker='', color='olive', linewidth=2)\n",
    "plt.plot('YEAR', 'STD_PRIVATE', data=mean_std_e, marker='', color='olive', linewidth=2, linestyle='dashed')\n",
    "\n",
    "plt.legend()"
   ]
  },
  {
   "cell_type": "markdown",
   "metadata": {},
   "source": [
    "It was noted that the behavior of the private school grades was higher, but there were large differences between the differences in school grades, noting the great difference in 2004, with a high standard deviation, both for public schools and individuals."
   ]
  },
  {
   "cell_type": "markdown",
   "metadata": {},
   "source": [
    "### Difference of notes regarding infrastructure and basic sanitation\n",
    "\n",
    "Let's compare now, using the same data, two different extracts: students living in homes with tap water and electricity and students who do not have tap water and electricity at home.\n",
    "\n",
    "First let's bring together all the students who have both resources:"
   ]
  },
  {
   "cell_type": "code",
   "execution_count": 16,
   "metadata": {},
   "outputs": [],
   "source": [
    "we_mean = enem.groupby(['YEAR', 'TAP_WATER', 'ELECTRIFIED_HOME']).mean()['MC_SCORE']\n",
    "we_mean_both = we_mean.loc[\n",
    "    (we_mean.index.get_level_values('TAP_WATER') == 'yes') & \n",
    "    (we_mean.index.get_level_values('ELECTRIFIED_HOME') == 'yes')\n",
    "].xs('yes', level=2).xs('yes', level=1)"
   ]
  },
  {
   "cell_type": "code",
   "execution_count": 17,
   "metadata": {},
   "outputs": [],
   "source": [
    "we_mean_none = we_mean.loc[\n",
    "    (we_mean.index.get_level_values('TAP_WATER') == 'no') & \n",
    "    (we_mean.index.get_level_values('ELECTRIFIED_HOME') == 'no')\n",
    "].xs('no', level=2).xs('no', level=1)\n"
   ]
  },
  {
   "cell_type": "code",
   "execution_count": 18,
   "metadata": {},
   "outputs": [
    {
     "data": {
      "text/html": [
       "<div>\n",
       "<style scoped>\n",
       "    .dataframe tbody tr th:only-of-type {\n",
       "        vertical-align: middle;\n",
       "    }\n",
       "\n",
       "    .dataframe tbody tr th {\n",
       "        vertical-align: top;\n",
       "    }\n",
       "\n",
       "    .dataframe thead th {\n",
       "        text-align: right;\n",
       "    }\n",
       "</style>\n",
       "<table border=\"1\" class=\"dataframe\">\n",
       "  <thead>\n",
       "    <tr style=\"text-align: right;\">\n",
       "      <th></th>\n",
       "      <th>MEAN_BOTH</th>\n",
       "      <th>MEAN_NONE</th>\n",
       "    </tr>\n",
       "    <tr>\n",
       "      <th>YEAR</th>\n",
       "      <th></th>\n",
       "      <th></th>\n",
       "    </tr>\n",
       "  </thead>\n",
       "  <tbody>\n",
       "    <tr>\n",
       "      <th>1999</th>\n",
       "      <td>47.110741</td>\n",
       "      <td>44.661204</td>\n",
       "    </tr>\n",
       "    <tr>\n",
       "      <th>2000</th>\n",
       "      <td>51.184570</td>\n",
       "      <td>49.398145</td>\n",
       "    </tr>\n",
       "    <tr>\n",
       "      <th>2001</th>\n",
       "      <td>37.817669</td>\n",
       "      <td>32.638472</td>\n",
       "    </tr>\n",
       "    <tr>\n",
       "      <th>2002</th>\n",
       "      <td>31.409227</td>\n",
       "      <td>26.360778</td>\n",
       "    </tr>\n",
       "    <tr>\n",
       "      <th>2003</th>\n",
       "      <td>46.227707</td>\n",
       "      <td>39.414856</td>\n",
       "    </tr>\n",
       "    <tr>\n",
       "      <th>2004</th>\n",
       "      <td>40.470997</td>\n",
       "      <td>34.972897</td>\n",
       "    </tr>\n",
       "    <tr>\n",
       "      <th>2005</th>\n",
       "      <td>37.043010</td>\n",
       "      <td>30.969300</td>\n",
       "    </tr>\n",
       "    <tr>\n",
       "      <th>2006</th>\n",
       "      <td>37.274898</td>\n",
       "      <td>30.088836</td>\n",
       "    </tr>\n",
       "    <tr>\n",
       "      <th>2007</th>\n",
       "      <td>49.812652</td>\n",
       "      <td>41.459613</td>\n",
       "    </tr>\n",
       "    <tr>\n",
       "      <th>2008</th>\n",
       "      <td>42.317030</td>\n",
       "      <td>35.713972</td>\n",
       "    </tr>\n",
       "  </tbody>\n",
       "</table>\n",
       "</div>"
      ],
      "text/plain": [
       "      MEAN_BOTH  MEAN_NONE\n",
       "YEAR                      \n",
       "1999  47.110741  44.661204\n",
       "2000  51.184570  49.398145\n",
       "2001  37.817669  32.638472\n",
       "2002  31.409227  26.360778\n",
       "2003  46.227707  39.414856\n",
       "2004  40.470997  34.972897\n",
       "2005  37.043010  30.969300\n",
       "2006  37.274898  30.088836\n",
       "2007  49.812652  41.459613\n",
       "2008  42.317030  35.713972"
      ]
     },
     "execution_count": 18,
     "metadata": {},
     "output_type": "execute_result"
    }
   ],
   "source": [
    "we_mean_df = pd.DataFrame(\n",
    "    {'MEAN_BOTH': we_mean_both, 'MEAN_NONE':we_mean_none}\n",
    ")\n",
    "we_mean_df"
   ]
  },
  {
   "cell_type": "code",
   "execution_count": 19,
   "metadata": {},
   "outputs": [
    {
     "data": {
      "text/plain": [
       "<matplotlib.legend.Legend at 0x7f3d4d12a0b8>"
      ]
     },
     "execution_count": 19,
     "metadata": {},
     "output_type": "execute_result"
    },
    {
     "data": {
      "image/png": "[encoded data removed]",
      "text/plain": [
       "<Figure size 432x288 with 1 Axes>"
      ]
     },
     "metadata": {
      "needs_background": "light"
     },
     "output_type": "display_data"
    }
   ],
   "source": [
    "we_mean_df.reset_index(inplace=True)\n",
    "we_mean_df['YEAR'] = we_mean_df['YEAR'].astype(int)\n",
    "plt.plot('YEAR', 'MEAN_BOTH', data=we_mean_df, marker='', color='blue', linewidth=2)\n",
    "plt.plot('YEAR', 'MEAN_NONE', data=we_mean_df, marker='', color='olive', linewidth=2)\n",
    "\n",
    "plt.legend()"
   ]
  },
  {
   "cell_type": "markdown",
   "metadata": {},
   "source": [
    "### Difference in relation to total family income\n",
    "\n",
    "Another interesting analysis is to measure the average grade as a function of total family income. The total monthly family income was organized into 8 bands: 1 minimum wage or less; 1 to 2 minimum wages; 2 to 5 minimum wages; 5 to 10 minimum wages; 10 to 30 minimum wages; 30 to 50 minimum wages; more than 50 minimum wages; and no monthly income:"
   ]
  },
  {
   "cell_type": "code",
   "execution_count": 20,
   "metadata": {},
   "outputs": [
    {
     "data": {
      "text/html": [
       "<div>\n",
       "<style scoped>\n",
       "    .dataframe tbody tr th:only-of-type {\n",
       "        vertical-align: middle;\n",
       "    }\n",
       "\n",
       "    .dataframe tbody tr th {\n",
       "        vertical-align: top;\n",
       "    }\n",
       "\n",
       "    .dataframe thead th {\n",
       "        text-align: right;\n",
       "    }\n",
       "</style>\n",
       "<table border=\"1\" class=\"dataframe\">\n",
       "  <thead>\n",
       "    <tr style=\"text-align: right;\">\n",
       "      <th></th>\n",
       "      <th>A_1_MW_or_less</th>\n",
       "      <th>B_1_to_2_MW</th>\n",
       "      <th>C_2_to_5_MW</th>\n",
       "      <th>D_5_to_10_MW</th>\n",
       "      <th>E_10_to_30_MW</th>\n",
       "      <th>F_30_to_50_MW</th>\n",
       "      <th>G_50+_MW</th>\n",
       "      <th>H_no_income</th>\n",
       "    </tr>\n",
       "    <tr>\n",
       "      <th>YEAR</th>\n",
       "      <th></th>\n",
       "      <th></th>\n",
       "      <th></th>\n",
       "      <th></th>\n",
       "      <th></th>\n",
       "      <th></th>\n",
       "      <th></th>\n",
       "      <th></th>\n",
       "    </tr>\n",
       "  </thead>\n",
       "  <tbody>\n",
       "    <tr>\n",
       "      <th>1999</th>\n",
       "      <td>33.968140</td>\n",
       "      <td>36.554268</td>\n",
       "      <td>41.410276</td>\n",
       "      <td>47.226818</td>\n",
       "      <td>53.802565</td>\n",
       "      <td>57.881187</td>\n",
       "      <td>58.774203</td>\n",
       "      <td>44.168856</td>\n",
       "    </tr>\n",
       "    <tr>\n",
       "      <th>2000</th>\n",
       "      <td>36.457261</td>\n",
       "      <td>38.041872</td>\n",
       "      <td>45.433937</td>\n",
       "      <td>51.942112</td>\n",
       "      <td>57.945445</td>\n",
       "      <td>61.018604</td>\n",
       "      <td>59.859634</td>\n",
       "      <td>45.967342</td>\n",
       "    </tr>\n",
       "    <tr>\n",
       "      <th>2001</th>\n",
       "      <td>30.640216</td>\n",
       "      <td>33.341829</td>\n",
       "      <td>37.314053</td>\n",
       "      <td>41.008144</td>\n",
       "      <td>46.642202</td>\n",
       "      <td>50.436142</td>\n",
       "      <td>50.938898</td>\n",
       "      <td>32.347530</td>\n",
       "    </tr>\n",
       "    <tr>\n",
       "      <th>2002</th>\n",
       "      <td>25.951000</td>\n",
       "      <td>27.887710</td>\n",
       "      <td>31.288648</td>\n",
       "      <td>34.886380</td>\n",
       "      <td>40.368790</td>\n",
       "      <td>43.573502</td>\n",
       "      <td>44.366829</td>\n",
       "      <td>26.640386</td>\n",
       "    </tr>\n",
       "    <tr>\n",
       "      <th>2003</th>\n",
       "      <td>34.953358</td>\n",
       "      <td>40.429991</td>\n",
       "      <td>48.886515</td>\n",
       "      <td>55.077630</td>\n",
       "      <td>61.693604</td>\n",
       "      <td>63.260614</td>\n",
       "      <td>57.220432</td>\n",
       "      <td>35.175571</td>\n",
       "    </tr>\n",
       "    <tr>\n",
       "      <th>2004</th>\n",
       "      <td>31.229182</td>\n",
       "      <td>35.502523</td>\n",
       "      <td>42.161082</td>\n",
       "      <td>47.785604</td>\n",
       "      <td>54.412509</td>\n",
       "      <td>54.241201</td>\n",
       "      <td>50.907652</td>\n",
       "      <td>32.105335</td>\n",
       "    </tr>\n",
       "    <tr>\n",
       "      <th>2005</th>\n",
       "      <td>30.073298</td>\n",
       "      <td>34.296858</td>\n",
       "      <td>39.887689</td>\n",
       "      <td>44.139720</td>\n",
       "      <td>50.406092</td>\n",
       "      <td>47.345833</td>\n",
       "      <td>46.940305</td>\n",
       "      <td>28.725878</td>\n",
       "    </tr>\n",
       "    <tr>\n",
       "      <th>2006</th>\n",
       "      <td>30.929945</td>\n",
       "      <td>34.203323</td>\n",
       "      <td>38.757741</td>\n",
       "      <td>44.976785</td>\n",
       "      <td>54.519120</td>\n",
       "      <td>57.727555</td>\n",
       "      <td>52.297337</td>\n",
       "      <td>30.517723</td>\n",
       "    </tr>\n",
       "    <tr>\n",
       "      <th>2007</th>\n",
       "      <td>42.222302</td>\n",
       "      <td>47.263009</td>\n",
       "      <td>53.712815</td>\n",
       "      <td>59.654524</td>\n",
       "      <td>69.200712</td>\n",
       "      <td>71.510000</td>\n",
       "      <td>59.477701</td>\n",
       "      <td>39.718785</td>\n",
       "    </tr>\n",
       "    <tr>\n",
       "      <th>2008</th>\n",
       "      <td>34.166731</td>\n",
       "      <td>38.455831</td>\n",
       "      <td>44.678873</td>\n",
       "      <td>52.461760</td>\n",
       "      <td>61.050033</td>\n",
       "      <td>64.236391</td>\n",
       "      <td>57.220257</td>\n",
       "      <td>32.648478</td>\n",
       "    </tr>\n",
       "  </tbody>\n",
       "</table>\n",
       "</div>"
      ],
      "text/plain": [
       "      A_1_MW_or_less  B_1_to_2_MW  C_2_to_5_MW  D_5_to_10_MW  E_10_to_30_MW  \\\n",
       "YEAR                                                                          \n",
       "1999       33.968140    36.554268    41.410276     47.226818      53.802565   \n",
       "2000       36.457261    38.041872    45.433937     51.942112      57.945445   \n",
       "2001       30.640216    33.341829    37.314053     41.008144      46.642202   \n",
       "2002       25.951000    27.887710    31.288648     34.886380      40.368790   \n",
       "2003       34.953358    40.429991    48.886515     55.077630      61.693604   \n",
       "2004       31.229182    35.502523    42.161082     47.785604      54.412509   \n",
       "2005       30.073298    34.296858    39.887689     44.139720      50.406092   \n",
       "2006       30.929945    34.203323    38.757741     44.976785      54.519120   \n",
       "2007       42.222302    47.263009    53.712815     59.654524      69.200712   \n",
       "2008       34.166731    38.455831    44.678873     52.461760      61.050033   \n",
       "\n",
       "      F_30_to_50_MW   G_50+_MW  H_no_income  \n",
       "YEAR                                         \n",
       "1999      57.881187  58.774203    44.168856  \n",
       "2000      61.018604  59.859634    45.967342  \n",
       "2001      50.436142  50.938898    32.347530  \n",
       "2002      43.573502  44.366829    26.640386  \n",
       "2003      63.260614  57.220432    35.175571  \n",
       "2004      54.241201  50.907652    32.105335  \n",
       "2005      47.345833  46.940305    28.725878  \n",
       "2006      57.727555  52.297337    30.517723  \n",
       "2007      71.510000  59.477701    39.718785  \n",
       "2008      64.236391  57.220257    32.648478  "
      ]
     },
     "execution_count": 20,
     "metadata": {},
     "output_type": "execute_result"
    }
   ],
   "source": [
    "inc_mean = enem.groupby(['YEAR', 'FAMILY_INCOME']).mean()['MC_SCORE']\n",
    "inc_mean_A = inc_mean.loc[inc_mean.index.get_level_values('FAMILY_INCOME') == 'A_1_MW_or_less'].xs('A_1_MW_or_less', level=1)\n",
    "inc_mean_B = inc_mean.loc[inc_mean.index.get_level_values('FAMILY_INCOME') == 'B_1_to_2_MW'].xs('B_1_to_2_MW', level=1)\n",
    "inc_mean_C = inc_mean.loc[inc_mean.index.get_level_values('FAMILY_INCOME') == 'C_2_to_5_MW'].xs('C_2_to_5_MW', level=1)\n",
    "inc_mean_D = inc_mean.loc[inc_mean.index.get_level_values('FAMILY_INCOME') == 'D_5_to_10_MW'].xs('D_5_to_10_MW', level=1)\n",
    "inc_mean_E = inc_mean.loc[inc_mean.index.get_level_values('FAMILY_INCOME') == 'E_10_to_30_MW'].xs('E_10_to_30_MW', level=1)\n",
    "inc_mean_F = inc_mean.loc[inc_mean.index.get_level_values('FAMILY_INCOME') == 'F_30_to_50_MW'].xs('F_30_to_50_MW', level=1)\n",
    "inc_mean_G = inc_mean.loc[inc_mean.index.get_level_values('FAMILY_INCOME') == 'G_50+_MW'].xs('G_50+_MW', level=1)\n",
    "inc_mean_H = inc_mean.loc[inc_mean.index.get_level_values('FAMILY_INCOME') == 'H_no_income'].xs('H_no_income', level=1)\n",
    "inc_mean_df = pd.DataFrame(\n",
    "    {'A_1_MW_or_less': inc_mean_A, 'B_1_to_2_MW':inc_mean_B, \n",
    "     'C_2_to_5_MW': inc_mean_C, 'D_5_to_10_MW':inc_mean_D, \n",
    "     'E_10_to_30_MW': inc_mean_E, 'F_30_to_50_MW':inc_mean_F, \n",
    "     'G_50+_MW': inc_mean_G, 'H_no_income':inc_mean_H}\n",
    ")\n",
    "inc_mean_df"
   ]
  },
  {
   "cell_type": "code",
   "execution_count": 21,
   "metadata": {},
   "outputs": [
    {
     "data": {
      "text/plain": [
       "<matplotlib.legend.Legend at 0x7f3d4d245a58>"
      ]
     },
     "execution_count": 21,
     "metadata": {},
     "output_type": "execute_result"
    },
    {
     "data": {
      "image/png": "[encoded data removed]",
      "text/plain": [
       "<Figure size 432x288 with 1 Axes>"
      ]
     },
     "metadata": {
      "needs_background": "light"
     },
     "output_type": "display_data"
    }
   ],
   "source": [
    "df_tmp = inc_mean_df.reset_index()\n",
    "df_tmp['YEAR'] = df_tmp['YEAR'].astype(int)\n",
    "\n",
    "plt.plot('YEAR', 'A_1_MW_or_less', data=df_tmp, marker='', color='blue', linewidth=2)\n",
    "plt.plot('YEAR', 'B_1_to_2_MW', data=df_tmp, marker='', color='olive', linewidth=2)\n",
    "plt.plot('YEAR', 'C_2_to_5_MW', data=df_tmp, marker='', color='green', linewidth=2)\n",
    "plt.plot('YEAR', 'D_5_to_10_MW', data=df_tmp, marker='', color='red', linewidth=2)\n",
    "plt.plot('YEAR', 'E_10_to_30_MW', data=df_tmp, marker='', color='cyan', linewidth=2)\n",
    "plt.plot('YEAR', 'F_30_to_50_MW', data=df_tmp, marker='', color='magenta', linewidth=2)\n",
    "plt.plot('YEAR', 'G_50+_MW', data=df_tmp, marker='', color='navy', linewidth=2)\n",
    "plt.plot('YEAR', 'H_no_income', data=df_tmp, marker='', color='black', linewidth=2)\n",
    "plt.legend()"
   ]
  },
  {
   "cell_type": "markdown",
   "metadata": {},
   "source": [
    "## Difference regarding preparatory course\n",
    "Another aspect to consider is to verify if the candidate attended a preparatory course in the year of the exam:"
   ]
  },
  {
   "cell_type": "code",
   "execution_count": 111,
   "metadata": {},
   "outputs": [],
   "source": [
    "pc_mean = enem.groupby(['YEAR', 'CURRENTY_PREP_COURSE']).mean()['MC_SCORE']\n",
    "pc_mean_yes = pc_mean.loc[\n",
    "    pc_mean.index.get_level_values('CURRENTY_PREP_COURSE') == 'yes'\n",
    "].xs('yes', level=1)"
   ]
  },
  {
   "cell_type": "code",
   "execution_count": 112,
   "metadata": {},
   "outputs": [],
   "source": [
    "pc_mean_no = pc_mean.loc[\n",
    "    pc_mean.index.get_level_values('CURRENTY_PREP_COURSE') == 'no'\n",
    "].xs('no', level=1)"
   ]
  },
  {
   "cell_type": "code",
   "execution_count": 113,
   "metadata": {},
   "outputs": [
    {
     "data": {
      "text/html": [
       "<div>\n",
       "<style scoped>\n",
       "    .dataframe tbody tr th:only-of-type {\n",
       "        vertical-align: middle;\n",
       "    }\n",
       "\n",
       "    .dataframe tbody tr th {\n",
       "        vertical-align: top;\n",
       "    }\n",
       "\n",
       "    .dataframe thead th {\n",
       "        text-align: right;\n",
       "    }\n",
       "</style>\n",
       "<table border=\"1\" class=\"dataframe\">\n",
       "  <thead>\n",
       "    <tr style=\"text-align: right;\">\n",
       "      <th></th>\n",
       "      <th>yes</th>\n",
       "      <th>no</th>\n",
       "    </tr>\n",
       "    <tr>\n",
       "      <th>YEAR</th>\n",
       "      <th></th>\n",
       "      <th></th>\n",
       "    </tr>\n",
       "  </thead>\n",
       "  <tbody>\n",
       "    <tr>\n",
       "      <th>1999</th>\n",
       "      <td>45.997518</td>\n",
       "      <td>44.521377</td>\n",
       "    </tr>\n",
       "    <tr>\n",
       "      <th>2000</th>\n",
       "      <td>53.784133</td>\n",
       "      <td>43.348239</td>\n",
       "    </tr>\n",
       "    <tr>\n",
       "      <th>2001</th>\n",
       "      <td>37.014521</td>\n",
       "      <td>39.725550</td>\n",
       "    </tr>\n",
       "    <tr>\n",
       "      <th>2002</th>\n",
       "      <td>35.805411</td>\n",
       "      <td>30.407299</td>\n",
       "    </tr>\n",
       "    <tr>\n",
       "      <th>2003</th>\n",
       "      <td>52.035079</td>\n",
       "      <td>41.015679</td>\n",
       "    </tr>\n",
       "    <tr>\n",
       "      <th>2004</th>\n",
       "      <td>47.733150</td>\n",
       "      <td>36.108457</td>\n",
       "    </tr>\n",
       "    <tr>\n",
       "      <th>2005</th>\n",
       "      <td>40.516131</td>\n",
       "      <td>35.455183</td>\n",
       "    </tr>\n",
       "    <tr>\n",
       "      <th>2006</th>\n",
       "      <td>42.039371</td>\n",
       "      <td>35.327378</td>\n",
       "    </tr>\n",
       "    <tr>\n",
       "      <th>2007</th>\n",
       "      <td>51.622581</td>\n",
       "      <td>48.243659</td>\n",
       "    </tr>\n",
       "    <tr>\n",
       "      <th>2008</th>\n",
       "      <td>46.994654</td>\n",
       "      <td>40.334809</td>\n",
       "    </tr>\n",
       "  </tbody>\n",
       "</table>\n",
       "</div>"
      ],
      "text/plain": [
       "            yes         no\n",
       "YEAR                      \n",
       "1999  45.997518  44.521377\n",
       "2000  53.784133  43.348239\n",
       "2001  37.014521  39.725550\n",
       "2002  35.805411  30.407299\n",
       "2003  52.035079  41.015679\n",
       "2004  47.733150  36.108457\n",
       "2005  40.516131  35.455183\n",
       "2006  42.039371  35.327378\n",
       "2007  51.622581  48.243659\n",
       "2008  46.994654  40.334809"
      ]
     },
     "execution_count": 113,
     "metadata": {},
     "output_type": "execute_result"
    }
   ],
   "source": [
    "pc_mean_df = pd.DataFrame(\n",
    "    {'yes': pc_mean_yes, 'no':pc_mean_no}\n",
    ")\n",
    "pc_mean_df"
   ]
  },
  {
   "cell_type": "code",
   "execution_count": 114,
   "metadata": {
    "scrolled": true
   },
   "outputs": [
    {
     "data": {
      "text/plain": [
       "<matplotlib.legend.Legend at 0x7f3d6484ac18>"
      ]
     },
     "execution_count": 114,
     "metadata": {},
     "output_type": "execute_result"
    },
    {
     "data": {
      "image/png": "[encoded data removed]",
      "text/plain": [
       "<Figure size 432x288 with 1 Axes>"
      ]
     },
     "metadata": {
      "needs_background": "light"
     },
     "output_type": "display_data"
    }
   ],
   "source": [
    "pc_mean_df.reset_index(inplace=True)\n",
    "pc_mean_df['YEAR'] = pc_mean_df['YEAR'].astype(int)\n",
    "plt.plot('YEAR', 'yes', data=pc_mean_df, marker='', color='blue', linewidth=2)\n",
    "plt.plot('YEAR', 'no', data=pc_mean_df, marker='', color='olive', linewidth=2)\n",
    "plt.legend()"
   ]
  },
  {
   "cell_type": "markdown",
   "metadata": {},
   "source": [
    "### Comparing income bands and performance of students in public and private schools\n",
    "\n",
    "An interesting thing to do is to calculate how many students, within your monthly income band, are in public or private school, and how many of these are above the average of your own range.\n",
    "\n",
    "First we count how many students have each income band in each year:"
   ]
  },
  {
   "cell_type": "code",
   "execution_count": 35,
   "metadata": {},
   "outputs": [
    {
     "data": {
      "text/plain": [
       "YEAR  FAMILY_INCOME \n",
       "1999  A_1_MW_or_less     1409\n",
       "      B_1_to_2_MW        6656\n",
       "      C_2_to_5_MW       21275\n",
       "      D_5_to_10_MW      21395\n",
       "      E_10_to_30_MW     10491\n",
       "Name: TOTAL_PUBLIC, dtype: int64"
      ]
     },
     "execution_count": 35,
     "metadata": {},
     "output_type": "execute_result"
    }
   ],
   "source": [
    "qty_per_year = enem.groupby(['YEAR', 'FAMILY_INCOME', 'SECONDARY_SCHOOL_2']).count()['MC_SCORE']\n",
    "qty_priv_per_year = qty_per_year.loc[qty_per_year.index.\\\n",
    "    get_level_values('SECONDARY_SCHOOL_2') == 'private'].xs('private', level=2).dropna().astype(int)\n",
    "qty_priv_per_year = qty_priv_per_year.loc[qty_priv_per_year.index.get_level_values('FAMILY_INCOME') != '*']\n",
    "qty_priv_per_year = qty_priv_per_year.rename('TOTAL_PRIVATE')\n",
    "\n",
    "qty_pub_per_year = qty_per_year.loc[qty_per_year.index.\\\n",
    "    get_level_values('SECONDARY_SCHOOL_2') == 'public'].xs('public', level=2).dropna().astype(int)\n",
    "qty_pub_per_year = qty_pub_per_year.loc[qty_pub_per_year.index.get_level_values('FAMILY_INCOME') != '*']\n",
    "qty_pub_per_year = qty_pub_per_year.rename('TOTAL_PUBLIC')"
   ]
  },
  {
   "cell_type": "markdown",
   "metadata": {},
   "source": [
    "Then we take the average score for each income band per year:"
   ]
  },
  {
   "cell_type": "code",
   "execution_count": 49,
   "metadata": {},
   "outputs": [
    {
     "data": {
      "text/plain": [
       "YEAR  FAMILY_INCOME \n",
       "1999  A_1_MW_or_less    33.968140\n",
       "      B_1_to_2_MW       36.554268\n",
       "      C_2_to_5_MW       41.410276\n",
       "      D_5_to_10_MW      47.226818\n",
       "      E_10_to_30_MW     53.802565\n",
       "Name: MEAN_GRADE, dtype: float64"
      ]
     },
     "execution_count": 49,
     "metadata": {},
     "output_type": "execute_result"
    }
   ],
   "source": [
    "inc_mean_per_year = inc_mean_df.stack()\n",
    "inc_mean_per_year.index.names = ['YEAR', 'FAMILY_INCOME']\n",
    "inc_mean_per_year = inc_mean_per_year.rename(\"MEAN_GRADE\")\n",
    "inc_mean_per_year.head()"
   ]
  },
  {
   "cell_type": "markdown",
   "metadata": {},
   "source": [
    "Then we count only the students whose score in the multiple choice test was higher than the average of the income band, taking into account whether the school is public or private:"
   ]
  },
  {
   "cell_type": "code",
   "execution_count": 45,
   "metadata": {},
   "outputs": [
    {
     "data": {
      "text/plain": [
       "YEAR  FAMILY_INCOME \n",
       "1999  A_1_MW_or_less     537\n",
       "      B_1_to_2_MW       2537\n",
       "      C_2_to_5_MW       8527\n",
       "      D_5_to_10_MW      9096\n",
       "      E_10_to_30_MW     4589\n",
       "Name: COUNT_PUBLIC_ABOVE_MEAN, dtype: int64"
      ]
     },
     "execution_count": 45,
     "metadata": {},
     "output_type": "execute_result"
    }
   ],
   "source": [
    "enem_inc_public = enem[enem['SECONDARY_SCHOOL_2'] == 'public'][['YEAR', 'FAMILY_INCOME', 'MC_SCORE']]\n",
    "enem_inc_public = enem_inc_public.merge(inc_mean_per_year, how='left', on=['YEAR', 'FAMILY_INCOME'])\n",
    "qty_enem_inc_public = enem_inc_public.loc[enem_inc_public['MC_SCORE'] > enem_inc_public['MEAN_GRADE']].\\\n",
    "    groupby(['YEAR', 'FAMILY_INCOME']).count()['MC_SCORE']\n",
    "qty_enem_inc_public = qty_enem_inc_public.rename('COUNT_PUBLIC_ABOVE_MEAN')\n",
    "\n",
    "enem_inc_private = enem[enem['SECONDARY_SCHOOL_2'] == 'private'][['YEAR', 'FAMILY_INCOME', 'MC_SCORE']]\n",
    "enem_inc_private = enem_inc_private.merge(inc_mean_per_year, how='left', on=['YEAR', 'FAMILY_INCOME'])\n",
    "qty_enem_inc_private = enem_inc_private.loc[enem_inc_private['MC_SCORE'] > enem_inc_private['MEAN_GRADE']].\\\n",
    "    groupby(['YEAR', 'FAMILY_INCOME']).count()['MC_SCORE']\n",
    "qty_enem_inc_private = qty_enem_inc_private.rename('COUNT_PRIVATE_ABOVE_MEAN')\n",
    "\n",
    "qty_enem_inc_public.head()"
   ]
  },
  {
   "cell_type": "markdown",
   "metadata": {},
   "source": [
    "Now we put them together and show the percentage:"
   ]
  },
  {
   "cell_type": "code",
   "execution_count": 25,
   "metadata": {},
   "outputs": [
    {
     "data": {
      "text/html": [
       "<div>\n",
       "<style scoped>\n",
       "    .dataframe tbody tr th:only-of-type {\n",
       "        vertical-align: middle;\n",
       "    }\n",
       "\n",
       "    .dataframe tbody tr th {\n",
       "        vertical-align: top;\n",
       "    }\n",
       "\n",
       "    .dataframe thead th {\n",
       "        text-align: right;\n",
       "    }\n",
       "</style>\n",
       "<table border=\"1\" class=\"dataframe\">\n",
       "  <thead>\n",
       "    <tr style=\"text-align: right;\">\n",
       "      <th></th>\n",
       "      <th></th>\n",
       "      <th>TOTAL_PRIVATE</th>\n",
       "      <th>COUNT_PRIVATE_ABOVE_MEAN</th>\n",
       "      <th>PER_PRIV_ABOVE_MEAN</th>\n",
       "    </tr>\n",
       "    <tr>\n",
       "      <th>YEAR</th>\n",
       "      <th>FAMILY_INCOME</th>\n",
       "      <th></th>\n",
       "      <th></th>\n",
       "      <th></th>\n",
       "    </tr>\n",
       "  </thead>\n",
       "  <tbody>\n",
       "    <tr>\n",
       "      <th rowspan=\"5\" valign=\"top\">1999</th>\n",
       "      <th>A_1_MW_or_less</th>\n",
       "      <td>125</td>\n",
       "      <td>75</td>\n",
       "      <td>60.000000</td>\n",
       "    </tr>\n",
       "    <tr>\n",
       "      <th>B_1_to_2_MW</th>\n",
       "      <td>542</td>\n",
       "      <td>302</td>\n",
       "      <td>55.719557</td>\n",
       "    </tr>\n",
       "    <tr>\n",
       "      <th>C_2_to_5_MW</th>\n",
       "      <td>3113</td>\n",
       "      <td>1801</td>\n",
       "      <td>57.854160</td>\n",
       "    </tr>\n",
       "    <tr>\n",
       "      <th>D_5_to_10_MW</th>\n",
       "      <td>7284</td>\n",
       "      <td>4324</td>\n",
       "      <td>59.362987</td>\n",
       "    </tr>\n",
       "    <tr>\n",
       "      <th>E_10_to_30_MW</th>\n",
       "      <td>10617</td>\n",
       "      <td>6151</td>\n",
       "      <td>57.935387</td>\n",
       "    </tr>\n",
       "  </tbody>\n",
       "</table>\n",
       "</div>"
      ],
      "text/plain": [
       "                     TOTAL_PRIVATE  COUNT_PRIVATE_ABOVE_MEAN  \\\n",
       "YEAR FAMILY_INCOME                                             \n",
       "1999 A_1_MW_or_less            125                        75   \n",
       "     B_1_to_2_MW               542                       302   \n",
       "     C_2_to_5_MW              3113                      1801   \n",
       "     D_5_to_10_MW             7284                      4324   \n",
       "     E_10_to_30_MW           10617                      6151   \n",
       "\n",
       "                     PER_PRIV_ABOVE_MEAN  \n",
       "YEAR FAMILY_INCOME                        \n",
       "1999 A_1_MW_or_less            60.000000  \n",
       "     B_1_to_2_MW               55.719557  \n",
       "     C_2_to_5_MW               57.854160  \n",
       "     D_5_to_10_MW              59.362987  \n",
       "     E_10_to_30_MW             57.935387  "
      ]
     },
     "execution_count": 25,
     "metadata": {},
     "output_type": "execute_result"
    }
   ],
   "source": [
    "priv_per_year = qty_priv_per_year.to_frame().\\\n",
    "    merge(qty_enem_inc_private, how='left', on=['YEAR', 'FAMILY_INCOME']).dropna()\n",
    "priv_per_year['COUNT_PRIVATE_ABOVE_MEAN'] = priv_per_year['COUNT_PRIVATE_ABOVE_MEAN'].astype(int)\n",
    "priv_per_year['PER_PRIV_ABOVE_MEAN'] = (priv_per_year['COUNT_PRIVATE_ABOVE_MEAN'] * 100)/ priv_per_year['TOTAL_PRIVATE']\n",
    "priv_per_year.head()"
   ]
  },
  {
   "cell_type": "code",
   "execution_count": 26,
   "metadata": {},
   "outputs": [
    {
     "data": {
      "text/html": [
       "<div>\n",
       "<style scoped>\n",
       "    .dataframe tbody tr th:only-of-type {\n",
       "        vertical-align: middle;\n",
       "    }\n",
       "\n",
       "    .dataframe tbody tr th {\n",
       "        vertical-align: top;\n",
       "    }\n",
       "\n",
       "    .dataframe thead th {\n",
       "        text-align: right;\n",
       "    }\n",
       "</style>\n",
       "<table border=\"1\" class=\"dataframe\">\n",
       "  <thead>\n",
       "    <tr style=\"text-align: right;\">\n",
       "      <th></th>\n",
       "      <th></th>\n",
       "      <th>TOTAL_PUBLIC</th>\n",
       "      <th>COUNT_PUBLIC_ABOVE_MEAN</th>\n",
       "      <th>PER_PUB_ABOVE_MEAN</th>\n",
       "    </tr>\n",
       "    <tr>\n",
       "      <th>YEAR</th>\n",
       "      <th>FAMILY_INCOME</th>\n",
       "      <th></th>\n",
       "      <th></th>\n",
       "      <th></th>\n",
       "    </tr>\n",
       "  </thead>\n",
       "  <tbody>\n",
       "    <tr>\n",
       "      <th rowspan=\"5\" valign=\"top\">1999</th>\n",
       "      <th>A_1_MW_or_less</th>\n",
       "      <td>1409</td>\n",
       "      <td>537</td>\n",
       "      <td>38.112136</td>\n",
       "    </tr>\n",
       "    <tr>\n",
       "      <th>B_1_to_2_MW</th>\n",
       "      <td>6656</td>\n",
       "      <td>2537</td>\n",
       "      <td>38.115986</td>\n",
       "    </tr>\n",
       "    <tr>\n",
       "      <th>C_2_to_5_MW</th>\n",
       "      <td>21275</td>\n",
       "      <td>8527</td>\n",
       "      <td>40.079906</td>\n",
       "    </tr>\n",
       "    <tr>\n",
       "      <th>D_5_to_10_MW</th>\n",
       "      <td>21395</td>\n",
       "      <td>9096</td>\n",
       "      <td>42.514606</td>\n",
       "    </tr>\n",
       "    <tr>\n",
       "      <th>E_10_to_30_MW</th>\n",
       "      <td>10491</td>\n",
       "      <td>4589</td>\n",
       "      <td>43.742255</td>\n",
       "    </tr>\n",
       "  </tbody>\n",
       "</table>\n",
       "</div>"
      ],
      "text/plain": [
       "                     TOTAL_PUBLIC  COUNT_PUBLIC_ABOVE_MEAN  PER_PUB_ABOVE_MEAN\n",
       "YEAR FAMILY_INCOME                                                            \n",
       "1999 A_1_MW_or_less          1409                      537           38.112136\n",
       "     B_1_to_2_MW             6656                     2537           38.115986\n",
       "     C_2_to_5_MW            21275                     8527           40.079906\n",
       "     D_5_to_10_MW           21395                     9096           42.514606\n",
       "     E_10_to_30_MW          10491                     4589           43.742255"
      ]
     },
     "execution_count": 26,
     "metadata": {},
     "output_type": "execute_result"
    }
   ],
   "source": [
    "pub_per_year = qty_pub_per_year.to_frame().\\\n",
    "    merge(qty_enem_inc_public, how='left', on=['YEAR', 'FAMILY_INCOME']).dropna()\n",
    "pub_per_year['COUNT_PUBLIC_ABOVE_MEAN'] = pub_per_year['COUNT_PUBLIC_ABOVE_MEAN'].astype(int)\n",
    "pub_per_year['PER_PUB_ABOVE_MEAN'] = (pub_per_year['COUNT_PUBLIC_ABOVE_MEAN'] * 100)/ pub_per_year['TOTAL_PUBLIC']\n",
    "pub_per_year.head()"
   ]
  },
  {
   "cell_type": "markdown",
   "metadata": {},
   "source": [
    "Let's now take each of the income bands and show the proportion of candidates each year by school type:"
   ]
  },
  {
   "cell_type": "code",
   "execution_count": 27,
   "metadata": {},
   "outputs": [],
   "source": [
    "mean_per_year = pd.DataFrame()\n",
    "mean_per_year['PER_PUB_ABOVE_MEAN'] = pub_per_year['PER_PUB_ABOVE_MEAN']\n",
    "mean_per_year['PER_PRIV_ABOVE_MEAN'] = priv_per_year['PER_PRIV_ABOVE_MEAN']\n",
    "\n",
    "df_A = mean_per_year.loc[mean_per_year.index.get_level_values('FAMILY_INCOME') == 'A_1_MW_or_less'].xs('A_1_MW_or_less', level=1)\n",
    "df_B = mean_per_year.loc[mean_per_year.index.get_level_values('FAMILY_INCOME') == 'B_1_to_2_MW'].xs('B_1_to_2_MW', level=1)\n",
    "df_C = mean_per_year.loc[mean_per_year.index.get_level_values('FAMILY_INCOME') == 'C_2_to_5_MW'].xs('C_2_to_5_MW', level=1)\n",
    "df_D = mean_per_year.loc[mean_per_year.index.get_level_values('FAMILY_INCOME') == 'D_5_to_10_MW'].xs('D_5_to_10_MW', level=1)\n",
    "df_E = mean_per_year.loc[mean_per_year.index.get_level_values('FAMILY_INCOME') == 'E_10_to_30_MW'].xs('E_10_to_30_MW', level=1)\n",
    "df_F = mean_per_year.loc[mean_per_year.index.get_level_values('FAMILY_INCOME') == 'F_30_to_50_MW'].xs('F_30_to_50_MW', level=1)\n",
    "df_G = mean_per_year.loc[mean_per_year.index.get_level_values('FAMILY_INCOME') == 'G_50+_MW'].xs('G_50+_MW', level=1)\n",
    "df_H = mean_per_year.loc[mean_per_year.index.get_level_values('FAMILY_INCOME') == 'H_no_income'].xs('H_no_income', level=1)\n"
   ]
  },
  {
   "cell_type": "code",
   "execution_count": 28,
   "metadata": {},
   "outputs": [
    {
     "data": {
      "text/plain": [
       "<matplotlib.axes._subplots.AxesSubplot at 0x7f3d4d219940>"
      ]
     },
     "execution_count": 28,
     "metadata": {},
     "output_type": "execute_result"
    },
    {
     "data": {
      "image/png": "[encoded data removed]",
      "text/plain": [
       "<Figure size 432x288 with 1 Axes>"
      ]
     },
     "metadata": {
      "needs_background": "light"
     },
     "output_type": "display_data"
    }
   ],
   "source": [
    "import matplotlib.pyplot as plt\n",
    "%matplotlib inline\n",
    "\n",
    "df_A.plot(kind='bar', title=\"1 Minimum Wage or less per month\")"
   ]
  },
  {
   "cell_type": "code",
   "execution_count": 29,
   "metadata": {},
   "outputs": [
    {
     "data": {
      "text/plain": [
       "<matplotlib.axes._subplots.AxesSubplot at 0x7f3d4d3a62b0>"
      ]
     },
     "execution_count": 29,
     "metadata": {},
     "output_type": "execute_result"
    },
    {
     "data": {
      "image/png": "[encoded data removed]",
      "text/plain": [
       "<Figure size 432x288 with 1 Axes>"
      ]
     },
     "metadata": {
      "needs_background": "light"
     },
     "output_type": "display_data"
    }
   ],
   "source": [
    "df_B.plot(kind='bar', title=\"From 1 to 2 Minimum Wages per month\")"
   ]
  },
  {
   "cell_type": "code",
   "execution_count": 30,
   "metadata": {},
   "outputs": [
    {
     "data": {
      "text/plain": [
       "<matplotlib.axes._subplots.AxesSubplot at 0x7f3d65ff1080>"
      ]
     },
     "execution_count": 30,
     "metadata": {},
     "output_type": "execute_result"
    },
    {
     "data": {
      "image/png": "[encoded data removed]",
      "text/plain": [
       "<Figure size 432x288 with 1 Axes>"
      ]
     },
     "metadata": {
      "needs_background": "light"
     },
     "output_type": "display_data"
    }
   ],
   "source": [
    "df_C.plot(kind='bar', title=\"From 2 to 5 Minimum Wages per month\")"
   ]
  },
  {
   "cell_type": "code",
   "execution_count": 31,
   "metadata": {},
   "outputs": [
    {
     "data": {
      "text/plain": [
       "<matplotlib.axes._subplots.AxesSubplot at 0x7f3d65f8a358>"
      ]
     },
     "execution_count": 31,
     "metadata": {},
     "output_type": "execute_result"
    },
    {
     "data": {
      "image/png": "[encoded data removed]",
      "text/plain": [
       "<Figure size 432x288 with 1 Axes>"
      ]
     },
     "metadata": {
      "needs_background": "light"
     },
     "output_type": "display_data"
    }
   ],
   "source": [
    "df_D.plot(kind='bar', title=\"From 5 to 10 Minimum Wages per month\")"
   ]
  },
  {
   "cell_type": "code",
   "execution_count": 32,
   "metadata": {},
   "outputs": [
    {
     "data": {
      "text/plain": [
       "<matplotlib.axes._subplots.AxesSubplot at 0x7f3d65e9db00>"
      ]
     },
     "execution_count": 32,
     "metadata": {},
     "output_type": "execute_result"
    },
    {
     "data": {
      "image/png": "[encoded data removed]",
      "text/plain": [
       "<Figure size 432x288 with 1 Axes>"
      ]
     },
     "metadata": {
      "needs_background": "light"
     },
     "output_type": "display_data"
    }
   ],
   "source": [
    "df_E.plot(kind='bar', title=\"From 10 to 30 Minimum Wages per month\")"
   ]
  },
  {
   "cell_type": "code",
   "execution_count": 33,
   "metadata": {},
   "outputs": [
    {
     "data": {
      "text/plain": [
       "<matplotlib.axes._subplots.AxesSubplot at 0x7f3d65e239e8>"
      ]
     },
     "execution_count": 33,
     "metadata": {},
     "output_type": "execute_result"
    },
    {
     "data": {
      "image/png": "[encoded data removed]",
      "text/plain": [
       "<Figure size 432x288 with 1 Axes>"
      ]
     },
     "metadata": {
      "needs_background": "light"
     },
     "output_type": "display_data"
    }
   ],
   "source": [
    "df_F.plot(kind='bar', title=\"From 30 to 50 Minimum Wages per month\")"
   ]
  },
  {
   "cell_type": "code",
   "execution_count": 34,
   "metadata": {},
   "outputs": [
    {
     "data": {
      "text/plain": [
       "<matplotlib.axes._subplots.AxesSubplot at 0x7f3d65daad30>"
      ]
     },
     "execution_count": 34,
     "metadata": {},
     "output_type": "execute_result"
    },
    {
     "data": {
      "image/png": "[encoded data removed]",
      "text/plain": [
       "<Figure size 432x288 with 1 Axes>"
      ]
     },
     "metadata": {
      "needs_background": "light"
     },
     "output_type": "display_data"
    }
   ],
   "source": [
    "df_G.plot(kind='bar', title=\"More than 50 Minimum Wages per month\")"
   ]
  },
  {
   "cell_type": "markdown",
   "metadata": {},
   "source": [
    "It is interesting to note that, regardless of the student's income band, proportionately more students from private schools had an objective test score above average."
   ]
  },
  {
   "cell_type": "markdown",
   "metadata": {},
   "source": [
    "### Comparing parental schooling and performance of public and private school students\n",
    "\n",
    "Another interesting thing to do is to use the same methodology to compare the average score of students whose parents have higher education and whose both parents do not have and compare their respective performances above or below average with the fact that they studied in public schools or private.\n",
    "\n",
    "First we take the average of each year and we group with respect to the two parents have higher education and the two do not have:"
   ]
  },
  {
   "cell_type": "code",
   "execution_count": 82,
   "metadata": {},
   "outputs": [
    {
     "data": {
      "text/plain": [
       "YEAR  PARENTS_SCHOOLING\n",
       "1999  both                 60.438033\n",
       "      none                 45.683902\n",
       "2000  both                 62.987877\n",
       "      none                 49.936372\n",
       "2001  both                 53.361863\n",
       "Name: MEAN_GRADE, dtype: float64"
      ]
     },
     "execution_count": 82,
     "metadata": {},
     "output_type": "execute_result"
    }
   ],
   "source": [
    "mask_parents_education = ((enem['FATHER_SCHOOLING'] == 'G-complete_higher_education') | \\\n",
    "      (enem['FATHER_SCHOOLING'] == 'H-postgraduate')) & \\\n",
    "     ((enem['MOTHER_SCHOOLING'] == 'G-complete_higher_education') | \\\n",
    "      (enem['MOTHER_SCHOOLING'] == 'H-postgraduate'))\n",
    "\n",
    "mean_education_both = enem[['YEAR', 'MC_SCORE']].loc[mask_parents_education]\n",
    "mean_education_both = mean_education_both.groupby('YEAR').mean()['MC_SCORE']\n",
    "mean_education_both = mean_education_both.rename(\"MEAN_GRADE\").to_frame()\n",
    "mean_education_both['PARENTS_SCHOOLING'] = 'both'\n",
    "\n",
    "mean_education_none = enem[['YEAR', 'MC_SCORE']].loc[~mask_parents_education]\n",
    "mean_education_none = mean_education_none.groupby('YEAR').mean()['MC_SCORE']\n",
    "mean_education_none = mean_education_none.rename(\"MEAN_GRADE\").to_frame()\n",
    "mean_education_none['PARENTS_SCHOOLING'] = 'none'\n",
    "\n",
    "mean_education_ps = pd.concat([mean_education_both, mean_education_none])\n",
    "mean_education_ps.reset_index(inplace=True)\n",
    "mean_education_ps.sort_values(['YEAR', 'PARENTS_SCHOOLING'], inplace=True)\n",
    "mean_education_ps.set_index(['YEAR', 'PARENTS_SCHOOLING'], inplace=True)\n",
    "mean_education_ps = mean_education_ps.squeeze().rename(\"MEAN_GRADE\")\n",
    "\n",
    "mean_education_ps.head()"
   ]
  },
  {
   "cell_type": "markdown",
   "metadata": {},
   "source": [
    "Then we count how many students in each of these bands did public or private school:"
   ]
  },
  {
   "cell_type": "code",
   "execution_count": 72,
   "metadata": {},
   "outputs": [
    {
     "data": {
      "text/plain": [
       "YEAR  PARENTS_SCHOOLING\n",
       "1999  both                  2004\n",
       "      none                 60892\n",
       "2000  both                   950\n",
       "      none                 24338\n",
       "2001  both                   798\n",
       "Name: TOTAL_PUBLIC, dtype: int64"
      ]
     },
     "execution_count": 72,
     "metadata": {},
     "output_type": "execute_result"
    }
   ],
   "source": [
    "qty_both_public_per_year = enem[['YEAR', 'MC_SCORE', 'SECONDARY_SCHOOL_2']].\\\n",
    "    loc[mask_parents_education & (enem['SECONDARY_SCHOOL_2'] == 'public')].\\\n",
    "    groupby('YEAR').count()['MC_SCORE']\n",
    "qty_both_public_per_year = qty_both_public_per_year.to_frame()\n",
    "qty_both_public_per_year['PARENTS_SCHOOLING'] = 'both'\n",
    "qty_none_public_per_year = enem[['YEAR', 'MC_SCORE', 'SECONDARY_SCHOOL_2']].\\\n",
    "    loc[~mask_parents_education & (enem['SECONDARY_SCHOOL_2'] == 'public')]\\\n",
    "    .groupby('YEAR').count()['MC_SCORE']\n",
    "qty_none_public_per_year = qty_none_public_per_year.to_frame()\n",
    "qty_none_public_per_year['PARENTS_SCHOOLING'] = 'none'\n",
    "qty_public_per_year_ps = pd.concat([qty_both_public_per_year, qty_none_public_per_year])\n",
    "qty_public_per_year_ps.reset_index(inplace=True)\n",
    "qty_public_per_year_ps.sort_values(['YEAR', 'PARENTS_SCHOOLING'], inplace=True)\n",
    "qty_public_per_year_ps.set_index(['YEAR', 'PARENTS_SCHOOLING'], inplace=True)\n",
    "qty_public_per_year_ps = qty_public_per_year_ps.squeeze().rename(\"TOTAL_PUBLIC\")\n",
    "\n",
    "\n",
    "qty_both_private_per_year = enem[['YEAR', 'MC_SCORE', 'SECONDARY_SCHOOL_2']].\\\n",
    "    loc[mask_parents_education & (enem['SECONDARY_SCHOOL_2'] == 'private')].\\\n",
    "    groupby('YEAR').count()['MC_SCORE']\n",
    "qty_both_private_per_year = qty_both_private_per_year.to_frame()\n",
    "qty_both_private_per_year['PARENTS_SCHOOLING'] = 'both'\n",
    "qty_none_private_per_year = enem[['YEAR', 'MC_SCORE', 'SECONDARY_SCHOOL_2']].\\\n",
    "    loc[~mask_parents_education & (enem['SECONDARY_SCHOOL_2'] == 'private')]\\\n",
    "    .groupby('YEAR').count()['MC_SCORE']\n",
    "qty_none_private_per_year = qty_none_private_per_year.to_frame()\n",
    "qty_none_private_per_year['PARENTS_SCHOOLING'] = 'none'\n",
    "qty_private_per_year_ps = pd.concat([qty_both_private_per_year, qty_none_private_per_year])\n",
    "qty_private_per_year_ps.reset_index(inplace=True)\n",
    "qty_private_per_year_ps.sort_values(['YEAR', 'PARENTS_SCHOOLING'], inplace=True)\n",
    "qty_private_per_year_ps.set_index(['YEAR', 'PARENTS_SCHOOLING'], inplace=True)\n",
    "qty_private_per_year_ps = qty_private_per_year_ps.squeeze().rename(\"TOTAL_PRIVATE\")\n",
    "\n",
    "\n",
    "qty_public_per_year_ps.head()"
   ]
  },
  {
   "cell_type": "markdown",
   "metadata": {},
   "source": [
    "Then we count how many students in each of these bands, taking into account the public or private school, had above average scores:"
   ]
  },
  {
   "cell_type": "code",
   "execution_count": 84,
   "metadata": {},
   "outputs": [],
   "source": [
    "enem_both_public_ps = enem[['YEAR', 'MC_SCORE']].loc[mask_parents_education & (enem['SECONDARY_SCHOOL_2'] == 'public')] \n",
    "enem_both_public_ps = enem_both_public_ps.merge(mean_education_both, how='left', on=['YEAR'])\n",
    "enem_both_public_ps = enem_both_public_ps.loc[enem_both_public_ps['MC_SCORE'] > enem_both_public_ps['MEAN_GRADE']].\\\n",
    "    groupby(['YEAR']).count()['MC_SCORE']\n",
    "enem_both_public_ps = enem_both_public_ps.rename('COUNT_ABOVE')\n",
    "enem_both_public_ps = enem_both_public_ps.to_frame()\n",
    "enem_both_public_ps['PARENTS_SCHOOLING'] = 'both'\n",
    "enem_none_public_ps = enem[['YEAR', 'MC_SCORE']].loc[~mask_parents_education & (enem['SECONDARY_SCHOOL_2'] == 'public')] \n",
    "enem_none_public_ps = enem_none_public_ps.merge(mean_education_none, how='left', on=['YEAR'])\n",
    "enem_none_public_ps = enem_none_public_ps.loc[enem_none_public_ps['MC_SCORE'] > enem_none_public_ps['MEAN_GRADE']].\\\n",
    "    groupby(['YEAR']).count()['MC_SCORE']\n",
    "enem_none_public_ps = enem_none_public_ps.rename('COUNT_ABOVE')\n",
    "enem_none_public_ps = enem_none_public_ps.to_frame()\n",
    "enem_none_public_ps['PARENTS_SCHOOLING'] = 'none'\n",
    "above_mean_public_per_year_ps = pd.concat([enem_both_public_ps, enem_none_public_ps])\n",
    "above_mean_public_per_year_ps.reset_index(inplace=True)\n",
    "above_mean_public_per_year_ps.sort_values(['YEAR', 'PARENTS_SCHOOLING'], inplace=True)\n",
    "above_mean_public_per_year_ps.set_index(['YEAR', 'PARENTS_SCHOOLING'], inplace=True)\n",
    "above_mean_public_per_year_ps = above_mean_public_per_year_ps.squeeze().rename(\"COUNT_PUBLIC_ABOVE_MEAN\")\n",
    "\n",
    "enem_both_private_ps = enem[['YEAR', 'MC_SCORE']].loc[mask_parents_education & (enem['SECONDARY_SCHOOL_2'] == 'private')] \n",
    "enem_both_private_ps = enem_both_private_ps.merge(mean_education_both, how='left', on=['YEAR'])\n",
    "enem_both_private_ps = enem_both_private_ps.loc[enem_both_private_ps['MC_SCORE'] > enem_both_private_ps['MEAN_GRADE']].\\\n",
    "    groupby(['YEAR']).count()['MC_SCORE']\n",
    "enem_both_private_ps = enem_both_private_ps.rename('COUNT_ABOVE')\n",
    "enem_both_private_ps = enem_both_private_ps.to_frame()\n",
    "enem_both_private_ps['PARENTS_SCHOOLING'] = 'both'\n",
    "enem_none_private_ps = enem[['YEAR', 'MC_SCORE']].loc[~mask_parents_education & (enem['SECONDARY_SCHOOL_2'] == 'private')] \n",
    "enem_none_private_ps = enem_none_private_ps.merge(mean_education_none, how='left', on=['YEAR'])\n",
    "enem_none_private_ps = enem_none_private_ps.loc[enem_none_private_ps['MC_SCORE'] > enem_none_private_ps['MEAN_GRADE']].\\\n",
    "    groupby(['YEAR']).count()['MC_SCORE']\n",
    "enem_none_private_ps = enem_none_private_ps.rename('COUNT_ABOVE')\n",
    "enem_none_private_ps = enem_none_private_ps.to_frame()\n",
    "enem_none_private_ps['PARENTS_SCHOOLING'] = 'none'\n",
    "above_mean_private_per_year_ps = pd.concat([enem_both_private_ps, enem_none_private_ps])\n",
    "above_mean_private_per_year_ps.reset_index(inplace=True)\n",
    "above_mean_private_per_year_ps.sort_values(['YEAR', 'PARENTS_SCHOOLING'], inplace=True)\n",
    "above_mean_private_per_year_ps.set_index(['YEAR', 'PARENTS_SCHOOLING'], inplace=True)\n",
    "above_mean_private_per_year_ps = above_mean_private_per_year_ps.squeeze().rename(\"COUNT_PRIVATE_ABOVE_MEAN\")\n"
   ]
  },
  {
   "cell_type": "markdown",
   "metadata": {},
   "source": [
    "Now we put it all together to get the percentage:"
   ]
  },
  {
   "cell_type": "code",
   "execution_count": 98,
   "metadata": {},
   "outputs": [
    {
     "data": {
      "text/html": [
       "<div>\n",
       "<style scoped>\n",
       "    .dataframe tbody tr th:only-of-type {\n",
       "        vertical-align: middle;\n",
       "    }\n",
       "\n",
       "    .dataframe tbody tr th {\n",
       "        vertical-align: top;\n",
       "    }\n",
       "\n",
       "    .dataframe thead th {\n",
       "        text-align: right;\n",
       "    }\n",
       "</style>\n",
       "<table border=\"1\" class=\"dataframe\">\n",
       "  <thead>\n",
       "    <tr style=\"text-align: right;\">\n",
       "      <th></th>\n",
       "      <th></th>\n",
       "      <th>TOTAL_PUBLIC</th>\n",
       "      <th>COUNT_PUBLIC_ABOVE_MEAN</th>\n",
       "      <th>PER_PUB_ABOVE_MEAN</th>\n",
       "    </tr>\n",
       "    <tr>\n",
       "      <th>YEAR</th>\n",
       "      <th>PARENTS_SCHOOLING</th>\n",
       "      <th></th>\n",
       "      <th></th>\n",
       "      <th></th>\n",
       "    </tr>\n",
       "  </thead>\n",
       "  <tbody>\n",
       "    <tr>\n",
       "      <th rowspan=\"2\" valign=\"top\">1999</th>\n",
       "      <th>both</th>\n",
       "      <td>2004</td>\n",
       "      <td>918</td>\n",
       "      <td>45.808383</td>\n",
       "    </tr>\n",
       "    <tr>\n",
       "      <th>none</th>\n",
       "      <td>60892</td>\n",
       "      <td>24037</td>\n",
       "      <td>39.474808</td>\n",
       "    </tr>\n",
       "    <tr>\n",
       "      <th rowspan=\"2\" valign=\"top\">2000</th>\n",
       "      <th>both</th>\n",
       "      <td>950</td>\n",
       "      <td>526</td>\n",
       "      <td>55.368421</td>\n",
       "    </tr>\n",
       "    <tr>\n",
       "      <th>none</th>\n",
       "      <td>24338</td>\n",
       "      <td>10678</td>\n",
       "      <td>43.873778</td>\n",
       "    </tr>\n",
       "    <tr>\n",
       "      <th>2001</th>\n",
       "      <th>both</th>\n",
       "      <td>798</td>\n",
       "      <td>283</td>\n",
       "      <td>35.463659</td>\n",
       "    </tr>\n",
       "  </tbody>\n",
       "</table>\n",
       "</div>"
      ],
      "text/plain": [
       "                        TOTAL_PUBLIC  COUNT_PUBLIC_ABOVE_MEAN  \\\n",
       "YEAR PARENTS_SCHOOLING                                          \n",
       "1999 both                       2004                      918   \n",
       "     none                      60892                    24037   \n",
       "2000 both                        950                      526   \n",
       "     none                      24338                    10678   \n",
       "2001 both                        798                      283   \n",
       "\n",
       "                        PER_PUB_ABOVE_MEAN  \n",
       "YEAR PARENTS_SCHOOLING                      \n",
       "1999 both                        45.808383  \n",
       "     none                        39.474808  \n",
       "2000 both                        55.368421  \n",
       "     none                        43.873778  \n",
       "2001 both                        35.463659  "
      ]
     },
     "execution_count": 98,
     "metadata": {},
     "output_type": "execute_result"
    }
   ],
   "source": [
    "pub_per_year = qty_public_per_year_ps.to_frame().\\\n",
    "    merge(above_mean_public_per_year_ps, how='left', on=['YEAR', 'PARENTS_SCHOOLING']).dropna()\n",
    "pub_per_year['PER_PUB_ABOVE_MEAN'] = (pub_per_year['COUNT_PUBLIC_ABOVE_MEAN'] * 100)/ pub_per_year['TOTAL_PUBLIC']\n",
    "\n",
    "\n",
    "priv_per_year = qty_private_per_year_ps.to_frame().\\\n",
    "    merge(above_mean_private_per_year_ps, how='left', on=['YEAR', 'PARENTS_SCHOOLING']).dropna()\n",
    "priv_per_year['PER_PRIV_ABOVE_MEAN'] = (priv_per_year['COUNT_PRIVATE_ABOVE_MEAN'] * 100)/ priv_per_year['TOTAL_PRIVATE']\n",
    "pub_per_year.head()"
   ]
  },
  {
   "cell_type": "markdown",
   "metadata": {},
   "source": [
    "And finally we put it all together in a DataFrame and we plot the percentage of private and public school students who had above average scores taking into account the parents' schooling situation:"
   ]
  },
  {
   "cell_type": "code",
   "execution_count": 110,
   "metadata": {},
   "outputs": [
    {
     "data": {
      "text/plain": [
       "<matplotlib.axes._subplots.AxesSubplot at 0x7f3d64cc11d0>"
      ]
     },
     "execution_count": 110,
     "metadata": {},
     "output_type": "execute_result"
    },
    {
     "data": {
      "image/png": "[encoded data removed]",
      "text/plain": [
       "<Figure size 432x288 with 1 Axes>"
      ]
     },
     "metadata": {
      "needs_background": "light"
     },
     "output_type": "display_data"
    }
   ],
   "source": [
    "mean_per_year = pd.DataFrame()\n",
    "mean_per_year['PER_PUB_BOTH_ABOVE_MEAN'] = pub_per_year['PER_PUB_ABOVE_MEAN'].\\\n",
    "    loc[pub_per_year.index.get_level_values('PARENTS_SCHOOLING') == 'both'].xs('both', level=1)\n",
    "mean_per_year['PER_PRIV_BOTH_ABOVE_MEAN'] = priv_per_year['PER_PRIV_ABOVE_MEAN'].\\\n",
    "    loc[priv_per_year.index.get_level_values('PARENTS_SCHOOLING') == 'both'].xs('both', level=1)\n",
    "mean_per_year['PER_PUB_NONE_ABOVE_MEAN'] = pub_per_year['PER_PUB_ABOVE_MEAN'].\\\n",
    "    loc[pub_per_year.index.get_level_values('PARENTS_SCHOOLING') == 'none'].xs('none', level=1)\n",
    "mean_per_year['PER_PRIV_NONE_ABOVE_MEAN'] = priv_per_year['PER_PRIV_ABOVE_MEAN'].\\\n",
    "    loc[priv_per_year.index.get_level_values('PARENTS_SCHOOLING') == 'none'].xs('none', level=1)\n",
    "\n",
    "mean_per_year.\\\n",
    "    plot(title=\"Percentage of candidates performing above mean\")"
   ]
  },
  {
   "cell_type": "markdown",
   "metadata": {},
   "source": [
    "## Conclusion and further proposals\n",
    "\n",
    "The data presented were very useful to show correlations between the notes and the socio-economic situation of the candidates. The average grade of students was expected to grow along with the monthly family income range, as well as we expected that the scores of those who studied in private high school were higher than the grade of those who studied in public schools, as well as we expected a correlation between a better note and water and light infrastructure. What we did not expect is such a low proportion of public school students whose parents have tertiary education who scored above average.\n",
    "\n",
    "We also conclude that the Pandas tool is very useful for making data inferences. The difficult part was to consolidate and normalize the data so that the data of every year could have the same treatment.\n",
    "\n",
    "Other studies that we suggest for those who are interested:\n",
    "\n",
    "* Study data after 2008\n",
    "\n",
    "* Look for other correlations, such as readings and editorial note\n",
    "\n",
    "* Expand metadata table to load more data\n",
    "\n",
    "Any contribution to this study is welcome! You can make a push request and submit changes at any time to the https://github.com/lucasbracher/enem repository.\n"
   ]
  }
 ],
 "metadata": {
  "kernelspec": {
   "display_name": "Python 3",
   "language": "python",
   "name": "python3"
  },
  "language_info": {
   "codemirror_mode": {
    "name": "ipython",
    "version": 3
   },
   "file_extension": ".py",
   "mimetype": "text/x-python",
   "name": "python",
   "nbconvert_exporter": "python",
   "pygments_lexer": "ipython3",
   "version": "3.5.2"
  }
 },
 "nbformat": 4,
 "nbformat_minor": 2
}
